{
 "cells": [
  {
   "cell_type": "code",
   "execution_count": 1,
   "id": "bf6ded9c",
   "metadata": {
    "_cell_guid": "b1076dfc-b9ad-4769-8c92-a6c4dae69d19",
    "_uuid": "8f2839f25d086af736a60e9eeb907d3b93b6e0e5",
    "execution": {
     "iopub.execute_input": "2024-10-16T12:34:56.535908Z",
     "iopub.status.busy": "2024-10-16T12:34:56.535355Z",
     "iopub.status.idle": "2024-10-16T12:34:57.506430Z",
     "shell.execute_reply": "2024-10-16T12:34:57.504929Z"
    },
    "papermill": {
     "duration": 0.986125,
     "end_time": "2024-10-16T12:34:57.508930",
     "exception": false,
     "start_time": "2024-10-16T12:34:56.522805",
     "status": "completed"
    },
    "tags": []
   },
   "outputs": [
    {
     "name": "stdout",
     "output_type": "stream",
     "text": [
      "/kaggle/input/creditcardfraud/creditcard.csv\n"
     ]
    }
   ],
   "source": [
    "# This Python 3 environment comes with many helpful analytics libraries installed\n",
    "# It is defined by the kaggle/python Docker image: https://github.com/kaggle/docker-python\n",
    "# For example, here's several helpful packages to load\n",
    "\n",
    "import numpy as np # linear algebra\n",
    "import pandas as pd # data processing, CSV file I/O (e.g. pd.read_csv)\n",
    "\n",
    "# Input data files are available in the read-only \"../input/\" directory\n",
    "# For example, running this (by clicking run or pressing Shift+Enter) will list all files under the input directory\n",
    "\n",
    "import os\n",
    "for dirname, _, filenames in os.walk('/kaggle/input'):\n",
    "    for filename in filenames:\n",
    "        print(os.path.join(dirname, filename))\n",
    "\n",
    "# You can write up to 20GB to the current directory (/kaggle/working/) that gets preserved as output when you create a version using \"Save & Run All\" \n",
    "# You can also write temporary files to /kaggle/temp/, but they won't be saved outside of the current session"
   ]
  },
  {
   "cell_type": "markdown",
   "id": "d6ed0ccd",
   "metadata": {
    "papermill": {
     "duration": 0.00919,
     "end_time": "2024-10-16T12:34:57.527642",
     "exception": false,
     "start_time": "2024-10-16T12:34:57.518452",
     "status": "completed"
    },
    "tags": []
   },
   "source": [
    "**Importing the Dependencies**"
   ]
  },
  {
   "cell_type": "code",
   "execution_count": 2,
   "id": "72d1bb4f",
   "metadata": {
    "execution": {
     "iopub.execute_input": "2024-10-16T12:34:57.550009Z",
     "iopub.status.busy": "2024-10-16T12:34:57.549348Z",
     "iopub.status.idle": "2024-10-16T12:34:59.515283Z",
     "shell.execute_reply": "2024-10-16T12:34:59.514141Z"
    },
    "papermill": {
     "duration": 1.979323,
     "end_time": "2024-10-16T12:34:59.517868",
     "exception": false,
     "start_time": "2024-10-16T12:34:57.538545",
     "status": "completed"
    },
    "tags": []
   },
   "outputs": [],
   "source": [
    "import numpy as np\n",
    "import pandas as pd\n",
    "from sklearn.model_selection import train_test_split\n",
    "from sklearn.linear_model import LogisticRegression\n",
    "from sklearn.metrics import accuracy_score, precision_score, recall_score, f1_score\n",
    "from sklearn.ensemble import RandomForestClassifier\n",
    "from sklearn.svm import SVC\n",
    "from sklearn.tree import DecisionTreeClassifier"
   ]
  },
  {
   "cell_type": "code",
   "execution_count": 3,
   "id": "18270d24",
   "metadata": {
    "execution": {
     "iopub.execute_input": "2024-10-16T12:34:59.538958Z",
     "iopub.status.busy": "2024-10-16T12:34:59.538343Z",
     "iopub.status.idle": "2024-10-16T12:35:03.799423Z",
     "shell.execute_reply": "2024-10-16T12:35:03.798374Z"
    },
    "papermill": {
     "duration": 4.274769,
     "end_time": "2024-10-16T12:35:03.802046",
     "exception": false,
     "start_time": "2024-10-16T12:34:59.527277",
     "status": "completed"
    },
    "tags": []
   },
   "outputs": [],
   "source": [
    "# loading the dataset to a Pandas DataFrame\n",
    "credit_card_data = pd.read_csv('/kaggle/input/creditcardfraud/creditcard.csv')"
   ]
  },
  {
   "cell_type": "code",
   "execution_count": 4,
   "id": "3c574e3c",
   "metadata": {
    "execution": {
     "iopub.execute_input": "2024-10-16T12:35:03.822481Z",
     "iopub.status.busy": "2024-10-16T12:35:03.822058Z",
     "iopub.status.idle": "2024-10-16T12:35:03.868128Z",
     "shell.execute_reply": "2024-10-16T12:35:03.866386Z"
    },
    "papermill": {
     "duration": 0.060001,
     "end_time": "2024-10-16T12:35:03.871356",
     "exception": false,
     "start_time": "2024-10-16T12:35:03.811355",
     "status": "completed"
    },
    "tags": []
   },
   "outputs": [
    {
     "data": {
      "text/html": [
       "<div>\n",
       "<style scoped>\n",
       "    .dataframe tbody tr th:only-of-type {\n",
       "        vertical-align: middle;\n",
       "    }\n",
       "\n",
       "    .dataframe tbody tr th {\n",
       "        vertical-align: top;\n",
       "    }\n",
       "\n",
       "    .dataframe thead th {\n",
       "        text-align: right;\n",
       "    }\n",
       "</style>\n",
       "<table border=\"1\" class=\"dataframe\">\n",
       "  <thead>\n",
       "    <tr style=\"text-align: right;\">\n",
       "      <th></th>\n",
       "      <th>Time</th>\n",
       "      <th>V1</th>\n",
       "      <th>V2</th>\n",
       "      <th>V3</th>\n",
       "      <th>V4</th>\n",
       "      <th>V5</th>\n",
       "      <th>V6</th>\n",
       "      <th>V7</th>\n",
       "      <th>V8</th>\n",
       "      <th>V9</th>\n",
       "      <th>...</th>\n",
       "      <th>V21</th>\n",
       "      <th>V22</th>\n",
       "      <th>V23</th>\n",
       "      <th>V24</th>\n",
       "      <th>V25</th>\n",
       "      <th>V26</th>\n",
       "      <th>V27</th>\n",
       "      <th>V28</th>\n",
       "      <th>Amount</th>\n",
       "      <th>Class</th>\n",
       "    </tr>\n",
       "  </thead>\n",
       "  <tbody>\n",
       "    <tr>\n",
       "      <th>0</th>\n",
       "      <td>0.0</td>\n",
       "      <td>-1.359807</td>\n",
       "      <td>-0.072781</td>\n",
       "      <td>2.536347</td>\n",
       "      <td>1.378155</td>\n",
       "      <td>-0.338321</td>\n",
       "      <td>0.462388</td>\n",
       "      <td>0.239599</td>\n",
       "      <td>0.098698</td>\n",
       "      <td>0.363787</td>\n",
       "      <td>...</td>\n",
       "      <td>-0.018307</td>\n",
       "      <td>0.277838</td>\n",
       "      <td>-0.110474</td>\n",
       "      <td>0.066928</td>\n",
       "      <td>0.128539</td>\n",
       "      <td>-0.189115</td>\n",
       "      <td>0.133558</td>\n",
       "      <td>-0.021053</td>\n",
       "      <td>149.62</td>\n",
       "      <td>0</td>\n",
       "    </tr>\n",
       "    <tr>\n",
       "      <th>1</th>\n",
       "      <td>0.0</td>\n",
       "      <td>1.191857</td>\n",
       "      <td>0.266151</td>\n",
       "      <td>0.166480</td>\n",
       "      <td>0.448154</td>\n",
       "      <td>0.060018</td>\n",
       "      <td>-0.082361</td>\n",
       "      <td>-0.078803</td>\n",
       "      <td>0.085102</td>\n",
       "      <td>-0.255425</td>\n",
       "      <td>...</td>\n",
       "      <td>-0.225775</td>\n",
       "      <td>-0.638672</td>\n",
       "      <td>0.101288</td>\n",
       "      <td>-0.339846</td>\n",
       "      <td>0.167170</td>\n",
       "      <td>0.125895</td>\n",
       "      <td>-0.008983</td>\n",
       "      <td>0.014724</td>\n",
       "      <td>2.69</td>\n",
       "      <td>0</td>\n",
       "    </tr>\n",
       "    <tr>\n",
       "      <th>2</th>\n",
       "      <td>1.0</td>\n",
       "      <td>-1.358354</td>\n",
       "      <td>-1.340163</td>\n",
       "      <td>1.773209</td>\n",
       "      <td>0.379780</td>\n",
       "      <td>-0.503198</td>\n",
       "      <td>1.800499</td>\n",
       "      <td>0.791461</td>\n",
       "      <td>0.247676</td>\n",
       "      <td>-1.514654</td>\n",
       "      <td>...</td>\n",
       "      <td>0.247998</td>\n",
       "      <td>0.771679</td>\n",
       "      <td>0.909412</td>\n",
       "      <td>-0.689281</td>\n",
       "      <td>-0.327642</td>\n",
       "      <td>-0.139097</td>\n",
       "      <td>-0.055353</td>\n",
       "      <td>-0.059752</td>\n",
       "      <td>378.66</td>\n",
       "      <td>0</td>\n",
       "    </tr>\n",
       "    <tr>\n",
       "      <th>3</th>\n",
       "      <td>1.0</td>\n",
       "      <td>-0.966272</td>\n",
       "      <td>-0.185226</td>\n",
       "      <td>1.792993</td>\n",
       "      <td>-0.863291</td>\n",
       "      <td>-0.010309</td>\n",
       "      <td>1.247203</td>\n",
       "      <td>0.237609</td>\n",
       "      <td>0.377436</td>\n",
       "      <td>-1.387024</td>\n",
       "      <td>...</td>\n",
       "      <td>-0.108300</td>\n",
       "      <td>0.005274</td>\n",
       "      <td>-0.190321</td>\n",
       "      <td>-1.175575</td>\n",
       "      <td>0.647376</td>\n",
       "      <td>-0.221929</td>\n",
       "      <td>0.062723</td>\n",
       "      <td>0.061458</td>\n",
       "      <td>123.50</td>\n",
       "      <td>0</td>\n",
       "    </tr>\n",
       "    <tr>\n",
       "      <th>4</th>\n",
       "      <td>2.0</td>\n",
       "      <td>-1.158233</td>\n",
       "      <td>0.877737</td>\n",
       "      <td>1.548718</td>\n",
       "      <td>0.403034</td>\n",
       "      <td>-0.407193</td>\n",
       "      <td>0.095921</td>\n",
       "      <td>0.592941</td>\n",
       "      <td>-0.270533</td>\n",
       "      <td>0.817739</td>\n",
       "      <td>...</td>\n",
       "      <td>-0.009431</td>\n",
       "      <td>0.798278</td>\n",
       "      <td>-0.137458</td>\n",
       "      <td>0.141267</td>\n",
       "      <td>-0.206010</td>\n",
       "      <td>0.502292</td>\n",
       "      <td>0.219422</td>\n",
       "      <td>0.215153</td>\n",
       "      <td>69.99</td>\n",
       "      <td>0</td>\n",
       "    </tr>\n",
       "  </tbody>\n",
       "</table>\n",
       "<p>5 rows × 31 columns</p>\n",
       "</div>"
      ],
      "text/plain": [
       "   Time        V1        V2        V3        V4        V5        V6        V7  \\\n",
       "0   0.0 -1.359807 -0.072781  2.536347  1.378155 -0.338321  0.462388  0.239599   \n",
       "1   0.0  1.191857  0.266151  0.166480  0.448154  0.060018 -0.082361 -0.078803   \n",
       "2   1.0 -1.358354 -1.340163  1.773209  0.379780 -0.503198  1.800499  0.791461   \n",
       "3   1.0 -0.966272 -0.185226  1.792993 -0.863291 -0.010309  1.247203  0.237609   \n",
       "4   2.0 -1.158233  0.877737  1.548718  0.403034 -0.407193  0.095921  0.592941   \n",
       "\n",
       "         V8        V9  ...       V21       V22       V23       V24       V25  \\\n",
       "0  0.098698  0.363787  ... -0.018307  0.277838 -0.110474  0.066928  0.128539   \n",
       "1  0.085102 -0.255425  ... -0.225775 -0.638672  0.101288 -0.339846  0.167170   \n",
       "2  0.247676 -1.514654  ...  0.247998  0.771679  0.909412 -0.689281 -0.327642   \n",
       "3  0.377436 -1.387024  ... -0.108300  0.005274 -0.190321 -1.175575  0.647376   \n",
       "4 -0.270533  0.817739  ... -0.009431  0.798278 -0.137458  0.141267 -0.206010   \n",
       "\n",
       "        V26       V27       V28  Amount  Class  \n",
       "0 -0.189115  0.133558 -0.021053  149.62      0  \n",
       "1  0.125895 -0.008983  0.014724    2.69      0  \n",
       "2 -0.139097 -0.055353 -0.059752  378.66      0  \n",
       "3 -0.221929  0.062723  0.061458  123.50      0  \n",
       "4  0.502292  0.219422  0.215153   69.99      0  \n",
       "\n",
       "[5 rows x 31 columns]"
      ]
     },
     "execution_count": 4,
     "metadata": {},
     "output_type": "execute_result"
    }
   ],
   "source": [
    "# first 5 rows of the dataset\n",
    "credit_card_data.head()"
   ]
  },
  {
   "cell_type": "code",
   "execution_count": 5,
   "id": "0337bcdc",
   "metadata": {
    "execution": {
     "iopub.execute_input": "2024-10-16T12:35:03.895571Z",
     "iopub.status.busy": "2024-10-16T12:35:03.895039Z",
     "iopub.status.idle": "2024-10-16T12:35:03.924232Z",
     "shell.execute_reply": "2024-10-16T12:35:03.922738Z"
    },
    "papermill": {
     "duration": 0.043854,
     "end_time": "2024-10-16T12:35:03.927370",
     "exception": false,
     "start_time": "2024-10-16T12:35:03.883516",
     "status": "completed"
    },
    "tags": []
   },
   "outputs": [
    {
     "data": {
      "text/html": [
       "<div>\n",
       "<style scoped>\n",
       "    .dataframe tbody tr th:only-of-type {\n",
       "        vertical-align: middle;\n",
       "    }\n",
       "\n",
       "    .dataframe tbody tr th {\n",
       "        vertical-align: top;\n",
       "    }\n",
       "\n",
       "    .dataframe thead th {\n",
       "        text-align: right;\n",
       "    }\n",
       "</style>\n",
       "<table border=\"1\" class=\"dataframe\">\n",
       "  <thead>\n",
       "    <tr style=\"text-align: right;\">\n",
       "      <th></th>\n",
       "      <th>Time</th>\n",
       "      <th>V1</th>\n",
       "      <th>V2</th>\n",
       "      <th>V3</th>\n",
       "      <th>V4</th>\n",
       "      <th>V5</th>\n",
       "      <th>V6</th>\n",
       "      <th>V7</th>\n",
       "      <th>V8</th>\n",
       "      <th>V9</th>\n",
       "      <th>...</th>\n",
       "      <th>V21</th>\n",
       "      <th>V22</th>\n",
       "      <th>V23</th>\n",
       "      <th>V24</th>\n",
       "      <th>V25</th>\n",
       "      <th>V26</th>\n",
       "      <th>V27</th>\n",
       "      <th>V28</th>\n",
       "      <th>Amount</th>\n",
       "      <th>Class</th>\n",
       "    </tr>\n",
       "  </thead>\n",
       "  <tbody>\n",
       "    <tr>\n",
       "      <th>284802</th>\n",
       "      <td>172786.0</td>\n",
       "      <td>-11.881118</td>\n",
       "      <td>10.071785</td>\n",
       "      <td>-9.834783</td>\n",
       "      <td>-2.066656</td>\n",
       "      <td>-5.364473</td>\n",
       "      <td>-2.606837</td>\n",
       "      <td>-4.918215</td>\n",
       "      <td>7.305334</td>\n",
       "      <td>1.914428</td>\n",
       "      <td>...</td>\n",
       "      <td>0.213454</td>\n",
       "      <td>0.111864</td>\n",
       "      <td>1.014480</td>\n",
       "      <td>-0.509348</td>\n",
       "      <td>1.436807</td>\n",
       "      <td>0.250034</td>\n",
       "      <td>0.943651</td>\n",
       "      <td>0.823731</td>\n",
       "      <td>0.77</td>\n",
       "      <td>0</td>\n",
       "    </tr>\n",
       "    <tr>\n",
       "      <th>284803</th>\n",
       "      <td>172787.0</td>\n",
       "      <td>-0.732789</td>\n",
       "      <td>-0.055080</td>\n",
       "      <td>2.035030</td>\n",
       "      <td>-0.738589</td>\n",
       "      <td>0.868229</td>\n",
       "      <td>1.058415</td>\n",
       "      <td>0.024330</td>\n",
       "      <td>0.294869</td>\n",
       "      <td>0.584800</td>\n",
       "      <td>...</td>\n",
       "      <td>0.214205</td>\n",
       "      <td>0.924384</td>\n",
       "      <td>0.012463</td>\n",
       "      <td>-1.016226</td>\n",
       "      <td>-0.606624</td>\n",
       "      <td>-0.395255</td>\n",
       "      <td>0.068472</td>\n",
       "      <td>-0.053527</td>\n",
       "      <td>24.79</td>\n",
       "      <td>0</td>\n",
       "    </tr>\n",
       "    <tr>\n",
       "      <th>284804</th>\n",
       "      <td>172788.0</td>\n",
       "      <td>1.919565</td>\n",
       "      <td>-0.301254</td>\n",
       "      <td>-3.249640</td>\n",
       "      <td>-0.557828</td>\n",
       "      <td>2.630515</td>\n",
       "      <td>3.031260</td>\n",
       "      <td>-0.296827</td>\n",
       "      <td>0.708417</td>\n",
       "      <td>0.432454</td>\n",
       "      <td>...</td>\n",
       "      <td>0.232045</td>\n",
       "      <td>0.578229</td>\n",
       "      <td>-0.037501</td>\n",
       "      <td>0.640134</td>\n",
       "      <td>0.265745</td>\n",
       "      <td>-0.087371</td>\n",
       "      <td>0.004455</td>\n",
       "      <td>-0.026561</td>\n",
       "      <td>67.88</td>\n",
       "      <td>0</td>\n",
       "    </tr>\n",
       "    <tr>\n",
       "      <th>284805</th>\n",
       "      <td>172788.0</td>\n",
       "      <td>-0.240440</td>\n",
       "      <td>0.530483</td>\n",
       "      <td>0.702510</td>\n",
       "      <td>0.689799</td>\n",
       "      <td>-0.377961</td>\n",
       "      <td>0.623708</td>\n",
       "      <td>-0.686180</td>\n",
       "      <td>0.679145</td>\n",
       "      <td>0.392087</td>\n",
       "      <td>...</td>\n",
       "      <td>0.265245</td>\n",
       "      <td>0.800049</td>\n",
       "      <td>-0.163298</td>\n",
       "      <td>0.123205</td>\n",
       "      <td>-0.569159</td>\n",
       "      <td>0.546668</td>\n",
       "      <td>0.108821</td>\n",
       "      <td>0.104533</td>\n",
       "      <td>10.00</td>\n",
       "      <td>0</td>\n",
       "    </tr>\n",
       "    <tr>\n",
       "      <th>284806</th>\n",
       "      <td>172792.0</td>\n",
       "      <td>-0.533413</td>\n",
       "      <td>-0.189733</td>\n",
       "      <td>0.703337</td>\n",
       "      <td>-0.506271</td>\n",
       "      <td>-0.012546</td>\n",
       "      <td>-0.649617</td>\n",
       "      <td>1.577006</td>\n",
       "      <td>-0.414650</td>\n",
       "      <td>0.486180</td>\n",
       "      <td>...</td>\n",
       "      <td>0.261057</td>\n",
       "      <td>0.643078</td>\n",
       "      <td>0.376777</td>\n",
       "      <td>0.008797</td>\n",
       "      <td>-0.473649</td>\n",
       "      <td>-0.818267</td>\n",
       "      <td>-0.002415</td>\n",
       "      <td>0.013649</td>\n",
       "      <td>217.00</td>\n",
       "      <td>0</td>\n",
       "    </tr>\n",
       "  </tbody>\n",
       "</table>\n",
       "<p>5 rows × 31 columns</p>\n",
       "</div>"
      ],
      "text/plain": [
       "            Time         V1         V2        V3        V4        V5  \\\n",
       "284802  172786.0 -11.881118  10.071785 -9.834783 -2.066656 -5.364473   \n",
       "284803  172787.0  -0.732789  -0.055080  2.035030 -0.738589  0.868229   \n",
       "284804  172788.0   1.919565  -0.301254 -3.249640 -0.557828  2.630515   \n",
       "284805  172788.0  -0.240440   0.530483  0.702510  0.689799 -0.377961   \n",
       "284806  172792.0  -0.533413  -0.189733  0.703337 -0.506271 -0.012546   \n",
       "\n",
       "              V6        V7        V8        V9  ...       V21       V22  \\\n",
       "284802 -2.606837 -4.918215  7.305334  1.914428  ...  0.213454  0.111864   \n",
       "284803  1.058415  0.024330  0.294869  0.584800  ...  0.214205  0.924384   \n",
       "284804  3.031260 -0.296827  0.708417  0.432454  ...  0.232045  0.578229   \n",
       "284805  0.623708 -0.686180  0.679145  0.392087  ...  0.265245  0.800049   \n",
       "284806 -0.649617  1.577006 -0.414650  0.486180  ...  0.261057  0.643078   \n",
       "\n",
       "             V23       V24       V25       V26       V27       V28  Amount  \\\n",
       "284802  1.014480 -0.509348  1.436807  0.250034  0.943651  0.823731    0.77   \n",
       "284803  0.012463 -1.016226 -0.606624 -0.395255  0.068472 -0.053527   24.79   \n",
       "284804 -0.037501  0.640134  0.265745 -0.087371  0.004455 -0.026561   67.88   \n",
       "284805 -0.163298  0.123205 -0.569159  0.546668  0.108821  0.104533   10.00   \n",
       "284806  0.376777  0.008797 -0.473649 -0.818267 -0.002415  0.013649  217.00   \n",
       "\n",
       "        Class  \n",
       "284802      0  \n",
       "284803      0  \n",
       "284804      0  \n",
       "284805      0  \n",
       "284806      0  \n",
       "\n",
       "[5 rows x 31 columns]"
      ]
     },
     "execution_count": 5,
     "metadata": {},
     "output_type": "execute_result"
    }
   ],
   "source": [
    "credit_card_data.tail()"
   ]
  },
  {
   "cell_type": "code",
   "execution_count": 6,
   "id": "6e65fcb2",
   "metadata": {
    "execution": {
     "iopub.execute_input": "2024-10-16T12:35:03.949539Z",
     "iopub.status.busy": "2024-10-16T12:35:03.948871Z",
     "iopub.status.idle": "2024-10-16T12:35:03.992740Z",
     "shell.execute_reply": "2024-10-16T12:35:03.991262Z"
    },
    "papermill": {
     "duration": 0.057699,
     "end_time": "2024-10-16T12:35:03.995308",
     "exception": false,
     "start_time": "2024-10-16T12:35:03.937609",
     "status": "completed"
    },
    "tags": []
   },
   "outputs": [
    {
     "name": "stdout",
     "output_type": "stream",
     "text": [
      "<class 'pandas.core.frame.DataFrame'>\n",
      "RangeIndex: 284807 entries, 0 to 284806\n",
      "Data columns (total 31 columns):\n",
      " #   Column  Non-Null Count   Dtype  \n",
      "---  ------  --------------   -----  \n",
      " 0   Time    284807 non-null  float64\n",
      " 1   V1      284807 non-null  float64\n",
      " 2   V2      284807 non-null  float64\n",
      " 3   V3      284807 non-null  float64\n",
      " 4   V4      284807 non-null  float64\n",
      " 5   V5      284807 non-null  float64\n",
      " 6   V6      284807 non-null  float64\n",
      " 7   V7      284807 non-null  float64\n",
      " 8   V8      284807 non-null  float64\n",
      " 9   V9      284807 non-null  float64\n",
      " 10  V10     284807 non-null  float64\n",
      " 11  V11     284807 non-null  float64\n",
      " 12  V12     284807 non-null  float64\n",
      " 13  V13     284807 non-null  float64\n",
      " 14  V14     284807 non-null  float64\n",
      " 15  V15     284807 non-null  float64\n",
      " 16  V16     284807 non-null  float64\n",
      " 17  V17     284807 non-null  float64\n",
      " 18  V18     284807 non-null  float64\n",
      " 19  V19     284807 non-null  float64\n",
      " 20  V20     284807 non-null  float64\n",
      " 21  V21     284807 non-null  float64\n",
      " 22  V22     284807 non-null  float64\n",
      " 23  V23     284807 non-null  float64\n",
      " 24  V24     284807 non-null  float64\n",
      " 25  V25     284807 non-null  float64\n",
      " 26  V26     284807 non-null  float64\n",
      " 27  V27     284807 non-null  float64\n",
      " 28  V28     284807 non-null  float64\n",
      " 29  Amount  284807 non-null  float64\n",
      " 30  Class   284807 non-null  int64  \n",
      "dtypes: float64(30), int64(1)\n",
      "memory usage: 67.4 MB\n"
     ]
    }
   ],
   "source": [
    "# dataset informations\n",
    "credit_card_data.info()"
   ]
  },
  {
   "cell_type": "code",
   "execution_count": 7,
   "id": "84218043",
   "metadata": {
    "execution": {
     "iopub.execute_input": "2024-10-16T12:35:04.017153Z",
     "iopub.status.busy": "2024-10-16T12:35:04.016682Z",
     "iopub.status.idle": "2024-10-16T12:35:04.038255Z",
     "shell.execute_reply": "2024-10-16T12:35:04.037176Z"
    },
    "papermill": {
     "duration": 0.035186,
     "end_time": "2024-10-16T12:35:04.040570",
     "exception": false,
     "start_time": "2024-10-16T12:35:04.005384",
     "status": "completed"
    },
    "tags": []
   },
   "outputs": [
    {
     "data": {
      "text/plain": [
       "Time      0\n",
       "V1        0\n",
       "V2        0\n",
       "V3        0\n",
       "V4        0\n",
       "V5        0\n",
       "V6        0\n",
       "V7        0\n",
       "V8        0\n",
       "V9        0\n",
       "V10       0\n",
       "V11       0\n",
       "V12       0\n",
       "V13       0\n",
       "V14       0\n",
       "V15       0\n",
       "V16       0\n",
       "V17       0\n",
       "V18       0\n",
       "V19       0\n",
       "V20       0\n",
       "V21       0\n",
       "V22       0\n",
       "V23       0\n",
       "V24       0\n",
       "V25       0\n",
       "V26       0\n",
       "V27       0\n",
       "V28       0\n",
       "Amount    0\n",
       "Class     0\n",
       "dtype: int64"
      ]
     },
     "execution_count": 7,
     "metadata": {},
     "output_type": "execute_result"
    }
   ],
   "source": [
    "# checking the number of missing values in each column\n",
    "credit_card_data.isnull().sum()"
   ]
  },
  {
   "cell_type": "code",
   "execution_count": 8,
   "id": "f4b71c20",
   "metadata": {
    "execution": {
     "iopub.execute_input": "2024-10-16T12:35:04.063237Z",
     "iopub.status.busy": "2024-10-16T12:35:04.062794Z",
     "iopub.status.idle": "2024-10-16T12:35:04.075973Z",
     "shell.execute_reply": "2024-10-16T12:35:04.074710Z"
    },
    "papermill": {
     "duration": 0.027731,
     "end_time": "2024-10-16T12:35:04.078403",
     "exception": false,
     "start_time": "2024-10-16T12:35:04.050672",
     "status": "completed"
    },
    "tags": []
   },
   "outputs": [
    {
     "data": {
      "text/plain": [
       "Class\n",
       "0    284315\n",
       "1       492\n",
       "Name: count, dtype: int64"
      ]
     },
     "execution_count": 8,
     "metadata": {},
     "output_type": "execute_result"
    }
   ],
   "source": [
    "# distribution of legit transactions & fraudulent transactions\n",
    "credit_card_data['Class'].value_counts()"
   ]
  },
  {
   "cell_type": "markdown",
   "id": "ec0716ec",
   "metadata": {
    "papermill": {
     "duration": 0.010957,
     "end_time": "2024-10-16T12:35:04.099719",
     "exception": false,
     "start_time": "2024-10-16T12:35:04.088762",
     "status": "completed"
    },
    "tags": []
   },
   "source": [
    "**This Dataset is highly unblanced**"
   ]
  },
  {
   "cell_type": "markdown",
   "id": "ca46ce4a",
   "metadata": {
    "papermill": {
     "duration": 0.009924,
     "end_time": "2024-10-16T12:35:04.120138",
     "exception": false,
     "start_time": "2024-10-16T12:35:04.110214",
     "status": "completed"
    },
    "tags": []
   },
   "source": [
    "0 --> Normal Transaction\n",
    "\n",
    "1 --> fraudulent transaction"
   ]
  },
  {
   "cell_type": "code",
   "execution_count": 9,
   "id": "8d4bda6d",
   "metadata": {
    "execution": {
     "iopub.execute_input": "2024-10-16T12:35:04.142757Z",
     "iopub.status.busy": "2024-10-16T12:35:04.142332Z",
     "iopub.status.idle": "2024-10-16T12:35:04.189983Z",
     "shell.execute_reply": "2024-10-16T12:35:04.188795Z"
    },
    "papermill": {
     "duration": 0.062153,
     "end_time": "2024-10-16T12:35:04.192748",
     "exception": false,
     "start_time": "2024-10-16T12:35:04.130595",
     "status": "completed"
    },
    "tags": []
   },
   "outputs": [],
   "source": [
    "# separating the data for analysis\n",
    "legit = credit_card_data[credit_card_data.Class == 0]\n",
    "fraud = credit_card_data[credit_card_data.Class == 1]"
   ]
  },
  {
   "cell_type": "code",
   "execution_count": 10,
   "id": "08719b4b",
   "metadata": {
    "execution": {
     "iopub.execute_input": "2024-10-16T12:35:04.215237Z",
     "iopub.status.busy": "2024-10-16T12:35:04.214786Z",
     "iopub.status.idle": "2024-10-16T12:35:04.220598Z",
     "shell.execute_reply": "2024-10-16T12:35:04.219455Z"
    },
    "papermill": {
     "duration": 0.020339,
     "end_time": "2024-10-16T12:35:04.223479",
     "exception": false,
     "start_time": "2024-10-16T12:35:04.203140",
     "status": "completed"
    },
    "tags": []
   },
   "outputs": [
    {
     "name": "stdout",
     "output_type": "stream",
     "text": [
      "(284315, 31)\n",
      "(492, 31)\n"
     ]
    }
   ],
   "source": [
    "print(legit.shape)\n",
    "print(fraud.shape)"
   ]
  },
  {
   "cell_type": "code",
   "execution_count": 11,
   "id": "04c380a8",
   "metadata": {
    "execution": {
     "iopub.execute_input": "2024-10-16T12:35:04.246776Z",
     "iopub.status.busy": "2024-10-16T12:35:04.246324Z",
     "iopub.status.idle": "2024-10-16T12:35:04.270795Z",
     "shell.execute_reply": "2024-10-16T12:35:04.269598Z"
    },
    "papermill": {
     "duration": 0.03928,
     "end_time": "2024-10-16T12:35:04.273291",
     "exception": false,
     "start_time": "2024-10-16T12:35:04.234011",
     "status": "completed"
    },
    "tags": []
   },
   "outputs": [
    {
     "data": {
      "text/plain": [
       "count    284315.000000\n",
       "mean         88.291022\n",
       "std         250.105092\n",
       "min           0.000000\n",
       "25%           5.650000\n",
       "50%          22.000000\n",
       "75%          77.050000\n",
       "max       25691.160000\n",
       "Name: Amount, dtype: float64"
      ]
     },
     "execution_count": 11,
     "metadata": {},
     "output_type": "execute_result"
    }
   ],
   "source": [
    "# statistical measures of the data\n",
    "legit.Amount.describe()"
   ]
  },
  {
   "cell_type": "code",
   "execution_count": 12,
   "id": "4f8d0303",
   "metadata": {
    "execution": {
     "iopub.execute_input": "2024-10-16T12:35:04.297322Z",
     "iopub.status.busy": "2024-10-16T12:35:04.296199Z",
     "iopub.status.idle": "2024-10-16T12:35:04.307245Z",
     "shell.execute_reply": "2024-10-16T12:35:04.306116Z"
    },
    "papermill": {
     "duration": 0.025454,
     "end_time": "2024-10-16T12:35:04.309653",
     "exception": false,
     "start_time": "2024-10-16T12:35:04.284199",
     "status": "completed"
    },
    "tags": []
   },
   "outputs": [
    {
     "data": {
      "text/plain": [
       "count     492.000000\n",
       "mean      122.211321\n",
       "std       256.683288\n",
       "min         0.000000\n",
       "25%         1.000000\n",
       "50%         9.250000\n",
       "75%       105.890000\n",
       "max      2125.870000\n",
       "Name: Amount, dtype: float64"
      ]
     },
     "execution_count": 12,
     "metadata": {},
     "output_type": "execute_result"
    }
   ],
   "source": [
    "fraud.Amount.describe()"
   ]
  },
  {
   "cell_type": "code",
   "execution_count": 13,
   "id": "9656c1df",
   "metadata": {
    "execution": {
     "iopub.execute_input": "2024-10-16T12:35:04.332505Z",
     "iopub.status.busy": "2024-10-16T12:35:04.332088Z",
     "iopub.status.idle": "2024-10-16T12:35:04.466407Z",
     "shell.execute_reply": "2024-10-16T12:35:04.465238Z"
    },
    "papermill": {
     "duration": 0.148546,
     "end_time": "2024-10-16T12:35:04.468813",
     "exception": false,
     "start_time": "2024-10-16T12:35:04.320267",
     "status": "completed"
    },
    "tags": []
   },
   "outputs": [
    {
     "data": {
      "text/html": [
       "<div>\n",
       "<style scoped>\n",
       "    .dataframe tbody tr th:only-of-type {\n",
       "        vertical-align: middle;\n",
       "    }\n",
       "\n",
       "    .dataframe tbody tr th {\n",
       "        vertical-align: top;\n",
       "    }\n",
       "\n",
       "    .dataframe thead th {\n",
       "        text-align: right;\n",
       "    }\n",
       "</style>\n",
       "<table border=\"1\" class=\"dataframe\">\n",
       "  <thead>\n",
       "    <tr style=\"text-align: right;\">\n",
       "      <th></th>\n",
       "      <th>Time</th>\n",
       "      <th>V1</th>\n",
       "      <th>V2</th>\n",
       "      <th>V3</th>\n",
       "      <th>V4</th>\n",
       "      <th>V5</th>\n",
       "      <th>V6</th>\n",
       "      <th>V7</th>\n",
       "      <th>V8</th>\n",
       "      <th>V9</th>\n",
       "      <th>...</th>\n",
       "      <th>V20</th>\n",
       "      <th>V21</th>\n",
       "      <th>V22</th>\n",
       "      <th>V23</th>\n",
       "      <th>V24</th>\n",
       "      <th>V25</th>\n",
       "      <th>V26</th>\n",
       "      <th>V27</th>\n",
       "      <th>V28</th>\n",
       "      <th>Amount</th>\n",
       "    </tr>\n",
       "    <tr>\n",
       "      <th>Class</th>\n",
       "      <th></th>\n",
       "      <th></th>\n",
       "      <th></th>\n",
       "      <th></th>\n",
       "      <th></th>\n",
       "      <th></th>\n",
       "      <th></th>\n",
       "      <th></th>\n",
       "      <th></th>\n",
       "      <th></th>\n",
       "      <th></th>\n",
       "      <th></th>\n",
       "      <th></th>\n",
       "      <th></th>\n",
       "      <th></th>\n",
       "      <th></th>\n",
       "      <th></th>\n",
       "      <th></th>\n",
       "      <th></th>\n",
       "      <th></th>\n",
       "      <th></th>\n",
       "    </tr>\n",
       "  </thead>\n",
       "  <tbody>\n",
       "    <tr>\n",
       "      <th>0</th>\n",
       "      <td>94838.202258</td>\n",
       "      <td>0.008258</td>\n",
       "      <td>-0.006271</td>\n",
       "      <td>0.012171</td>\n",
       "      <td>-0.007860</td>\n",
       "      <td>0.005453</td>\n",
       "      <td>0.002419</td>\n",
       "      <td>0.009637</td>\n",
       "      <td>-0.000987</td>\n",
       "      <td>0.004467</td>\n",
       "      <td>...</td>\n",
       "      <td>-0.000644</td>\n",
       "      <td>-0.001235</td>\n",
       "      <td>-0.000024</td>\n",
       "      <td>0.000070</td>\n",
       "      <td>0.000182</td>\n",
       "      <td>-0.000072</td>\n",
       "      <td>-0.000089</td>\n",
       "      <td>-0.000295</td>\n",
       "      <td>-0.000131</td>\n",
       "      <td>88.291022</td>\n",
       "    </tr>\n",
       "    <tr>\n",
       "      <th>1</th>\n",
       "      <td>80746.806911</td>\n",
       "      <td>-4.771948</td>\n",
       "      <td>3.623778</td>\n",
       "      <td>-7.033281</td>\n",
       "      <td>4.542029</td>\n",
       "      <td>-3.151225</td>\n",
       "      <td>-1.397737</td>\n",
       "      <td>-5.568731</td>\n",
       "      <td>0.570636</td>\n",
       "      <td>-2.581123</td>\n",
       "      <td>...</td>\n",
       "      <td>0.372319</td>\n",
       "      <td>0.713588</td>\n",
       "      <td>0.014049</td>\n",
       "      <td>-0.040308</td>\n",
       "      <td>-0.105130</td>\n",
       "      <td>0.041449</td>\n",
       "      <td>0.051648</td>\n",
       "      <td>0.170575</td>\n",
       "      <td>0.075667</td>\n",
       "      <td>122.211321</td>\n",
       "    </tr>\n",
       "  </tbody>\n",
       "</table>\n",
       "<p>2 rows × 30 columns</p>\n",
       "</div>"
      ],
      "text/plain": [
       "               Time        V1        V2        V3        V4        V5  \\\n",
       "Class                                                                   \n",
       "0      94838.202258  0.008258 -0.006271  0.012171 -0.007860  0.005453   \n",
       "1      80746.806911 -4.771948  3.623778 -7.033281  4.542029 -3.151225   \n",
       "\n",
       "             V6        V7        V8        V9  ...       V20       V21  \\\n",
       "Class                                          ...                       \n",
       "0      0.002419  0.009637 -0.000987  0.004467  ... -0.000644 -0.001235   \n",
       "1     -1.397737 -5.568731  0.570636 -2.581123  ...  0.372319  0.713588   \n",
       "\n",
       "            V22       V23       V24       V25       V26       V27       V28  \\\n",
       "Class                                                                         \n",
       "0     -0.000024  0.000070  0.000182 -0.000072 -0.000089 -0.000295 -0.000131   \n",
       "1      0.014049 -0.040308 -0.105130  0.041449  0.051648  0.170575  0.075667   \n",
       "\n",
       "           Amount  \n",
       "Class              \n",
       "0       88.291022  \n",
       "1      122.211321  \n",
       "\n",
       "[2 rows x 30 columns]"
      ]
     },
     "execution_count": 13,
     "metadata": {},
     "output_type": "execute_result"
    }
   ],
   "source": [
    "# compare the values for both transactions\n",
    "credit_card_data.groupby('Class').mean()"
   ]
  },
  {
   "cell_type": "markdown",
   "id": "32aef27e",
   "metadata": {
    "papermill": {
     "duration": 0.010549,
     "end_time": "2024-10-16T12:35:04.490473",
     "exception": false,
     "start_time": "2024-10-16T12:35:04.479924",
     "status": "completed"
    },
    "tags": []
   },
   "source": [
    "**Under-Sampling**"
   ]
  },
  {
   "cell_type": "markdown",
   "id": "3af96306",
   "metadata": {
    "papermill": {
     "duration": 0.011264,
     "end_time": "2024-10-16T12:35:04.512624",
     "exception": false,
     "start_time": "2024-10-16T12:35:04.501360",
     "status": "completed"
    },
    "tags": []
   },
   "source": [
    "**Build a sample dataset containing similar distribution of normal transactions and Fraudulent Transactions**"
   ]
  },
  {
   "cell_type": "markdown",
   "id": "138085df",
   "metadata": {
    "papermill": {
     "duration": 0.010436,
     "end_time": "2024-10-16T12:35:04.533862",
     "exception": false,
     "start_time": "2024-10-16T12:35:04.523426",
     "status": "completed"
    },
    "tags": []
   },
   "source": [
    "**Number of Fraudulent Transactions --> 492**"
   ]
  },
  {
   "cell_type": "code",
   "execution_count": 14,
   "id": "dadc9f7b",
   "metadata": {
    "execution": {
     "iopub.execute_input": "2024-10-16T12:35:04.557589Z",
     "iopub.status.busy": "2024-10-16T12:35:04.557158Z",
     "iopub.status.idle": "2024-10-16T12:35:04.573544Z",
     "shell.execute_reply": "2024-10-16T12:35:04.572309Z"
    },
    "papermill": {
     "duration": 0.031244,
     "end_time": "2024-10-16T12:35:04.576097",
     "exception": false,
     "start_time": "2024-10-16T12:35:04.544853",
     "status": "completed"
    },
    "tags": []
   },
   "outputs": [],
   "source": [
    "legit_sample = legit.sample(n=492)"
   ]
  },
  {
   "cell_type": "markdown",
   "id": "bf888a4d",
   "metadata": {
    "papermill": {
     "duration": 0.01059,
     "end_time": "2024-10-16T12:35:04.597673",
     "exception": false,
     "start_time": "2024-10-16T12:35:04.587083",
     "status": "completed"
    },
    "tags": []
   },
   "source": [
    "**Concatenating two DataFrames**"
   ]
  },
  {
   "cell_type": "code",
   "execution_count": 15,
   "id": "60f625b8",
   "metadata": {
    "execution": {
     "iopub.execute_input": "2024-10-16T12:35:04.621587Z",
     "iopub.status.busy": "2024-10-16T12:35:04.621155Z",
     "iopub.status.idle": "2024-10-16T12:35:04.627543Z",
     "shell.execute_reply": "2024-10-16T12:35:04.626464Z"
    },
    "papermill": {
     "duration": 0.021173,
     "end_time": "2024-10-16T12:35:04.630088",
     "exception": false,
     "start_time": "2024-10-16T12:35:04.608915",
     "status": "completed"
    },
    "tags": []
   },
   "outputs": [],
   "source": [
    "new_dataset = pd.concat([legit_sample, fraud], axis=0)"
   ]
  },
  {
   "cell_type": "code",
   "execution_count": 16,
   "id": "0bd4b938",
   "metadata": {
    "execution": {
     "iopub.execute_input": "2024-10-16T12:35:04.653903Z",
     "iopub.status.busy": "2024-10-16T12:35:04.653421Z",
     "iopub.status.idle": "2024-10-16T12:35:04.678221Z",
     "shell.execute_reply": "2024-10-16T12:35:04.676920Z"
    },
    "papermill": {
     "duration": 0.039551,
     "end_time": "2024-10-16T12:35:04.680620",
     "exception": false,
     "start_time": "2024-10-16T12:35:04.641069",
     "status": "completed"
    },
    "tags": []
   },
   "outputs": [
    {
     "data": {
      "text/html": [
       "<div>\n",
       "<style scoped>\n",
       "    .dataframe tbody tr th:only-of-type {\n",
       "        vertical-align: middle;\n",
       "    }\n",
       "\n",
       "    .dataframe tbody tr th {\n",
       "        vertical-align: top;\n",
       "    }\n",
       "\n",
       "    .dataframe thead th {\n",
       "        text-align: right;\n",
       "    }\n",
       "</style>\n",
       "<table border=\"1\" class=\"dataframe\">\n",
       "  <thead>\n",
       "    <tr style=\"text-align: right;\">\n",
       "      <th></th>\n",
       "      <th>Time</th>\n",
       "      <th>V1</th>\n",
       "      <th>V2</th>\n",
       "      <th>V3</th>\n",
       "      <th>V4</th>\n",
       "      <th>V5</th>\n",
       "      <th>V6</th>\n",
       "      <th>V7</th>\n",
       "      <th>V8</th>\n",
       "      <th>V9</th>\n",
       "      <th>...</th>\n",
       "      <th>V21</th>\n",
       "      <th>V22</th>\n",
       "      <th>V23</th>\n",
       "      <th>V24</th>\n",
       "      <th>V25</th>\n",
       "      <th>V26</th>\n",
       "      <th>V27</th>\n",
       "      <th>V28</th>\n",
       "      <th>Amount</th>\n",
       "      <th>Class</th>\n",
       "    </tr>\n",
       "  </thead>\n",
       "  <tbody>\n",
       "    <tr>\n",
       "      <th>244243</th>\n",
       "      <td>152265.0</td>\n",
       "      <td>-1.008288</td>\n",
       "      <td>0.020961</td>\n",
       "      <td>1.060362</td>\n",
       "      <td>-2.315503</td>\n",
       "      <td>-0.621914</td>\n",
       "      <td>-0.076767</td>\n",
       "      <td>-0.303113</td>\n",
       "      <td>0.430585</td>\n",
       "      <td>-0.993785</td>\n",
       "      <td>...</td>\n",
       "      <td>0.409993</td>\n",
       "      <td>0.854091</td>\n",
       "      <td>-0.401011</td>\n",
       "      <td>0.520735</td>\n",
       "      <td>0.861626</td>\n",
       "      <td>-0.052530</td>\n",
       "      <td>-0.297551</td>\n",
       "      <td>-0.157113</td>\n",
       "      <td>70.00</td>\n",
       "      <td>0</td>\n",
       "    </tr>\n",
       "    <tr>\n",
       "      <th>74586</th>\n",
       "      <td>55656.0</td>\n",
       "      <td>-0.508029</td>\n",
       "      <td>0.971134</td>\n",
       "      <td>1.317627</td>\n",
       "      <td>-0.118402</td>\n",
       "      <td>0.474907</td>\n",
       "      <td>-0.236914</td>\n",
       "      <td>0.946096</td>\n",
       "      <td>-0.098380</td>\n",
       "      <td>-0.899375</td>\n",
       "      <td>...</td>\n",
       "      <td>0.012192</td>\n",
       "      <td>0.068222</td>\n",
       "      <td>-0.313348</td>\n",
       "      <td>-0.204372</td>\n",
       "      <td>0.347121</td>\n",
       "      <td>0.783048</td>\n",
       "      <td>0.001761</td>\n",
       "      <td>0.051823</td>\n",
       "      <td>23.00</td>\n",
       "      <td>0</td>\n",
       "    </tr>\n",
       "    <tr>\n",
       "      <th>199395</th>\n",
       "      <td>132943.0</td>\n",
       "      <td>-0.888411</td>\n",
       "      <td>0.129374</td>\n",
       "      <td>0.033340</td>\n",
       "      <td>-1.478096</td>\n",
       "      <td>3.560287</td>\n",
       "      <td>3.627169</td>\n",
       "      <td>0.843466</td>\n",
       "      <td>0.448297</td>\n",
       "      <td>-0.128198</td>\n",
       "      <td>...</td>\n",
       "      <td>-0.353894</td>\n",
       "      <td>-0.653075</td>\n",
       "      <td>-0.060049</td>\n",
       "      <td>0.677667</td>\n",
       "      <td>0.730812</td>\n",
       "      <td>-0.368037</td>\n",
       "      <td>-0.364858</td>\n",
       "      <td>-0.427420</td>\n",
       "      <td>15.43</td>\n",
       "      <td>0</td>\n",
       "    </tr>\n",
       "    <tr>\n",
       "      <th>110926</th>\n",
       "      <td>72028.0</td>\n",
       "      <td>1.115538</td>\n",
       "      <td>-0.295725</td>\n",
       "      <td>0.665642</td>\n",
       "      <td>0.202378</td>\n",
       "      <td>-0.701254</td>\n",
       "      <td>-0.101331</td>\n",
       "      <td>-0.381491</td>\n",
       "      <td>0.196601</td>\n",
       "      <td>0.467709</td>\n",
       "      <td>...</td>\n",
       "      <td>-0.229913</td>\n",
       "      <td>-0.585200</td>\n",
       "      <td>0.142911</td>\n",
       "      <td>0.267771</td>\n",
       "      <td>0.033753</td>\n",
       "      <td>0.822309</td>\n",
       "      <td>-0.060126</td>\n",
       "      <td>-0.002922</td>\n",
       "      <td>24.79</td>\n",
       "      <td>0</td>\n",
       "    </tr>\n",
       "    <tr>\n",
       "      <th>70004</th>\n",
       "      <td>53667.0</td>\n",
       "      <td>-1.245666</td>\n",
       "      <td>0.920032</td>\n",
       "      <td>0.768056</td>\n",
       "      <td>-2.000247</td>\n",
       "      <td>0.833297</td>\n",
       "      <td>0.678502</td>\n",
       "      <td>0.580423</td>\n",
       "      <td>0.175136</td>\n",
       "      <td>0.648175</td>\n",
       "      <td>...</td>\n",
       "      <td>-0.276875</td>\n",
       "      <td>-0.365130</td>\n",
       "      <td>-0.256405</td>\n",
       "      <td>-1.700943</td>\n",
       "      <td>-0.096862</td>\n",
       "      <td>0.826443</td>\n",
       "      <td>0.409637</td>\n",
       "      <td>0.156932</td>\n",
       "      <td>22.75</td>\n",
       "      <td>0</td>\n",
       "    </tr>\n",
       "  </tbody>\n",
       "</table>\n",
       "<p>5 rows × 31 columns</p>\n",
       "</div>"
      ],
      "text/plain": [
       "            Time        V1        V2        V3        V4        V5        V6  \\\n",
       "244243  152265.0 -1.008288  0.020961  1.060362 -2.315503 -0.621914 -0.076767   \n",
       "74586    55656.0 -0.508029  0.971134  1.317627 -0.118402  0.474907 -0.236914   \n",
       "199395  132943.0 -0.888411  0.129374  0.033340 -1.478096  3.560287  3.627169   \n",
       "110926   72028.0  1.115538 -0.295725  0.665642  0.202378 -0.701254 -0.101331   \n",
       "70004    53667.0 -1.245666  0.920032  0.768056 -2.000247  0.833297  0.678502   \n",
       "\n",
       "              V7        V8        V9  ...       V21       V22       V23  \\\n",
       "244243 -0.303113  0.430585 -0.993785  ...  0.409993  0.854091 -0.401011   \n",
       "74586   0.946096 -0.098380 -0.899375  ...  0.012192  0.068222 -0.313348   \n",
       "199395  0.843466  0.448297 -0.128198  ... -0.353894 -0.653075 -0.060049   \n",
       "110926 -0.381491  0.196601  0.467709  ... -0.229913 -0.585200  0.142911   \n",
       "70004   0.580423  0.175136  0.648175  ... -0.276875 -0.365130 -0.256405   \n",
       "\n",
       "             V24       V25       V26       V27       V28  Amount  Class  \n",
       "244243  0.520735  0.861626 -0.052530 -0.297551 -0.157113   70.00      0  \n",
       "74586  -0.204372  0.347121  0.783048  0.001761  0.051823   23.00      0  \n",
       "199395  0.677667  0.730812 -0.368037 -0.364858 -0.427420   15.43      0  \n",
       "110926  0.267771  0.033753  0.822309 -0.060126 -0.002922   24.79      0  \n",
       "70004  -1.700943 -0.096862  0.826443  0.409637  0.156932   22.75      0  \n",
       "\n",
       "[5 rows x 31 columns]"
      ]
     },
     "execution_count": 16,
     "metadata": {},
     "output_type": "execute_result"
    }
   ],
   "source": [
    "new_dataset.head()"
   ]
  },
  {
   "cell_type": "code",
   "execution_count": 17,
   "id": "cc2174c6",
   "metadata": {
    "execution": {
     "iopub.execute_input": "2024-10-16T12:35:04.705877Z",
     "iopub.status.busy": "2024-10-16T12:35:04.704487Z",
     "iopub.status.idle": "2024-10-16T12:35:04.713829Z",
     "shell.execute_reply": "2024-10-16T12:35:04.712759Z"
    },
    "papermill": {
     "duration": 0.024273,
     "end_time": "2024-10-16T12:35:04.716267",
     "exception": false,
     "start_time": "2024-10-16T12:35:04.691994",
     "status": "completed"
    },
    "tags": []
   },
   "outputs": [
    {
     "data": {
      "text/plain": [
       "Class\n",
       "0    492\n",
       "1    492\n",
       "Name: count, dtype: int64"
      ]
     },
     "execution_count": 17,
     "metadata": {},
     "output_type": "execute_result"
    }
   ],
   "source": [
    "new_dataset['Class'].value_counts()"
   ]
  },
  {
   "cell_type": "code",
   "execution_count": 18,
   "id": "5089f05e",
   "metadata": {
    "execution": {
     "iopub.execute_input": "2024-10-16T12:35:04.740254Z",
     "iopub.status.busy": "2024-10-16T12:35:04.739813Z",
     "iopub.status.idle": "2024-10-16T12:35:04.763666Z",
     "shell.execute_reply": "2024-10-16T12:35:04.762403Z"
    },
    "papermill": {
     "duration": 0.039059,
     "end_time": "2024-10-16T12:35:04.766470",
     "exception": false,
     "start_time": "2024-10-16T12:35:04.727411",
     "status": "completed"
    },
    "tags": []
   },
   "outputs": [
    {
     "data": {
      "text/html": [
       "<div>\n",
       "<style scoped>\n",
       "    .dataframe tbody tr th:only-of-type {\n",
       "        vertical-align: middle;\n",
       "    }\n",
       "\n",
       "    .dataframe tbody tr th {\n",
       "        vertical-align: top;\n",
       "    }\n",
       "\n",
       "    .dataframe thead th {\n",
       "        text-align: right;\n",
       "    }\n",
       "</style>\n",
       "<table border=\"1\" class=\"dataframe\">\n",
       "  <thead>\n",
       "    <tr style=\"text-align: right;\">\n",
       "      <th></th>\n",
       "      <th>Time</th>\n",
       "      <th>V1</th>\n",
       "      <th>V2</th>\n",
       "      <th>V3</th>\n",
       "      <th>V4</th>\n",
       "      <th>V5</th>\n",
       "      <th>V6</th>\n",
       "      <th>V7</th>\n",
       "      <th>V8</th>\n",
       "      <th>V9</th>\n",
       "      <th>...</th>\n",
       "      <th>V20</th>\n",
       "      <th>V21</th>\n",
       "      <th>V22</th>\n",
       "      <th>V23</th>\n",
       "      <th>V24</th>\n",
       "      <th>V25</th>\n",
       "      <th>V26</th>\n",
       "      <th>V27</th>\n",
       "      <th>V28</th>\n",
       "      <th>Amount</th>\n",
       "    </tr>\n",
       "    <tr>\n",
       "      <th>Class</th>\n",
       "      <th></th>\n",
       "      <th></th>\n",
       "      <th></th>\n",
       "      <th></th>\n",
       "      <th></th>\n",
       "      <th></th>\n",
       "      <th></th>\n",
       "      <th></th>\n",
       "      <th></th>\n",
       "      <th></th>\n",
       "      <th></th>\n",
       "      <th></th>\n",
       "      <th></th>\n",
       "      <th></th>\n",
       "      <th></th>\n",
       "      <th></th>\n",
       "      <th></th>\n",
       "      <th></th>\n",
       "      <th></th>\n",
       "      <th></th>\n",
       "      <th></th>\n",
       "    </tr>\n",
       "  </thead>\n",
       "  <tbody>\n",
       "    <tr>\n",
       "      <th>0</th>\n",
       "      <td>92483.105691</td>\n",
       "      <td>0.035877</td>\n",
       "      <td>0.067239</td>\n",
       "      <td>0.071218</td>\n",
       "      <td>-0.091172</td>\n",
       "      <td>0.091011</td>\n",
       "      <td>-0.010255</td>\n",
       "      <td>0.029176</td>\n",
       "      <td>-0.036731</td>\n",
       "      <td>0.056737</td>\n",
       "      <td>...</td>\n",
       "      <td>0.055285</td>\n",
       "      <td>-0.027289</td>\n",
       "      <td>-0.052987</td>\n",
       "      <td>-0.046820</td>\n",
       "      <td>0.057644</td>\n",
       "      <td>0.015353</td>\n",
       "      <td>-0.000465</td>\n",
       "      <td>0.021806</td>\n",
       "      <td>-0.002606</td>\n",
       "      <td>80.340752</td>\n",
       "    </tr>\n",
       "    <tr>\n",
       "      <th>1</th>\n",
       "      <td>80746.806911</td>\n",
       "      <td>-4.771948</td>\n",
       "      <td>3.623778</td>\n",
       "      <td>-7.033281</td>\n",
       "      <td>4.542029</td>\n",
       "      <td>-3.151225</td>\n",
       "      <td>-1.397737</td>\n",
       "      <td>-5.568731</td>\n",
       "      <td>0.570636</td>\n",
       "      <td>-2.581123</td>\n",
       "      <td>...</td>\n",
       "      <td>0.372319</td>\n",
       "      <td>0.713588</td>\n",
       "      <td>0.014049</td>\n",
       "      <td>-0.040308</td>\n",
       "      <td>-0.105130</td>\n",
       "      <td>0.041449</td>\n",
       "      <td>0.051648</td>\n",
       "      <td>0.170575</td>\n",
       "      <td>0.075667</td>\n",
       "      <td>122.211321</td>\n",
       "    </tr>\n",
       "  </tbody>\n",
       "</table>\n",
       "<p>2 rows × 30 columns</p>\n",
       "</div>"
      ],
      "text/plain": [
       "               Time        V1        V2        V3        V4        V5  \\\n",
       "Class                                                                   \n",
       "0      92483.105691  0.035877  0.067239  0.071218 -0.091172  0.091011   \n",
       "1      80746.806911 -4.771948  3.623778 -7.033281  4.542029 -3.151225   \n",
       "\n",
       "             V6        V7        V8        V9  ...       V20       V21  \\\n",
       "Class                                          ...                       \n",
       "0     -0.010255  0.029176 -0.036731  0.056737  ...  0.055285 -0.027289   \n",
       "1     -1.397737 -5.568731  0.570636 -2.581123  ...  0.372319  0.713588   \n",
       "\n",
       "            V22       V23       V24       V25       V26       V27       V28  \\\n",
       "Class                                                                         \n",
       "0     -0.052987 -0.046820  0.057644  0.015353 -0.000465  0.021806 -0.002606   \n",
       "1      0.014049 -0.040308 -0.105130  0.041449  0.051648  0.170575  0.075667   \n",
       "\n",
       "           Amount  \n",
       "Class              \n",
       "0       80.340752  \n",
       "1      122.211321  \n",
       "\n",
       "[2 rows x 30 columns]"
      ]
     },
     "execution_count": 18,
     "metadata": {},
     "output_type": "execute_result"
    }
   ],
   "source": [
    "new_dataset.groupby('Class').mean()"
   ]
  },
  {
   "cell_type": "markdown",
   "id": "56cdb64f",
   "metadata": {
    "papermill": {
     "duration": 0.011277,
     "end_time": "2024-10-16T12:35:04.789456",
     "exception": false,
     "start_time": "2024-10-16T12:35:04.778179",
     "status": "completed"
    },
    "tags": []
   },
   "source": [
    "**Splitting the data into Features & Targets**"
   ]
  },
  {
   "cell_type": "code",
   "execution_count": 19,
   "id": "ddc815eb",
   "metadata": {
    "execution": {
     "iopub.execute_input": "2024-10-16T12:35:04.816026Z",
     "iopub.status.busy": "2024-10-16T12:35:04.814687Z",
     "iopub.status.idle": "2024-10-16T12:35:04.821480Z",
     "shell.execute_reply": "2024-10-16T12:35:04.820319Z"
    },
    "papermill": {
     "duration": 0.022612,
     "end_time": "2024-10-16T12:35:04.824033",
     "exception": false,
     "start_time": "2024-10-16T12:35:04.801421",
     "status": "completed"
    },
    "tags": []
   },
   "outputs": [],
   "source": [
    "X = new_dataset.drop(columns='Class', axis=1)\n",
    "Y = new_dataset['Class']"
   ]
  },
  {
   "cell_type": "code",
   "execution_count": 20,
   "id": "e25973f1",
   "metadata": {
    "execution": {
     "iopub.execute_input": "2024-10-16T12:35:04.848654Z",
     "iopub.status.busy": "2024-10-16T12:35:04.848282Z",
     "iopub.status.idle": "2024-10-16T12:35:04.878185Z",
     "shell.execute_reply": "2024-10-16T12:35:04.876972Z"
    },
    "papermill": {
     "duration": 0.044996,
     "end_time": "2024-10-16T12:35:04.880571",
     "exception": false,
     "start_time": "2024-10-16T12:35:04.835575",
     "status": "completed"
    },
    "tags": []
   },
   "outputs": [
    {
     "data": {
      "text/html": [
       "<div>\n",
       "<style scoped>\n",
       "    .dataframe tbody tr th:only-of-type {\n",
       "        vertical-align: middle;\n",
       "    }\n",
       "\n",
       "    .dataframe tbody tr th {\n",
       "        vertical-align: top;\n",
       "    }\n",
       "\n",
       "    .dataframe thead th {\n",
       "        text-align: right;\n",
       "    }\n",
       "</style>\n",
       "<table border=\"1\" class=\"dataframe\">\n",
       "  <thead>\n",
       "    <tr style=\"text-align: right;\">\n",
       "      <th></th>\n",
       "      <th>Time</th>\n",
       "      <th>V1</th>\n",
       "      <th>V2</th>\n",
       "      <th>V3</th>\n",
       "      <th>V4</th>\n",
       "      <th>V5</th>\n",
       "      <th>V6</th>\n",
       "      <th>V7</th>\n",
       "      <th>V8</th>\n",
       "      <th>V9</th>\n",
       "      <th>...</th>\n",
       "      <th>V20</th>\n",
       "      <th>V21</th>\n",
       "      <th>V22</th>\n",
       "      <th>V23</th>\n",
       "      <th>V24</th>\n",
       "      <th>V25</th>\n",
       "      <th>V26</th>\n",
       "      <th>V27</th>\n",
       "      <th>V28</th>\n",
       "      <th>Amount</th>\n",
       "    </tr>\n",
       "  </thead>\n",
       "  <tbody>\n",
       "    <tr>\n",
       "      <th>244243</th>\n",
       "      <td>152265.0</td>\n",
       "      <td>-1.008288</td>\n",
       "      <td>0.020961</td>\n",
       "      <td>1.060362</td>\n",
       "      <td>-2.315503</td>\n",
       "      <td>-0.621914</td>\n",
       "      <td>-0.076767</td>\n",
       "      <td>-0.303113</td>\n",
       "      <td>0.430585</td>\n",
       "      <td>-0.993785</td>\n",
       "      <td>...</td>\n",
       "      <td>0.014065</td>\n",
       "      <td>0.409993</td>\n",
       "      <td>0.854091</td>\n",
       "      <td>-0.401011</td>\n",
       "      <td>0.520735</td>\n",
       "      <td>0.861626</td>\n",
       "      <td>-0.052530</td>\n",
       "      <td>-0.297551</td>\n",
       "      <td>-0.157113</td>\n",
       "      <td>70.00</td>\n",
       "    </tr>\n",
       "    <tr>\n",
       "      <th>74586</th>\n",
       "      <td>55656.0</td>\n",
       "      <td>-0.508029</td>\n",
       "      <td>0.971134</td>\n",
       "      <td>1.317627</td>\n",
       "      <td>-0.118402</td>\n",
       "      <td>0.474907</td>\n",
       "      <td>-0.236914</td>\n",
       "      <td>0.946096</td>\n",
       "      <td>-0.098380</td>\n",
       "      <td>-0.899375</td>\n",
       "      <td>...</td>\n",
       "      <td>0.143641</td>\n",
       "      <td>0.012192</td>\n",
       "      <td>0.068222</td>\n",
       "      <td>-0.313348</td>\n",
       "      <td>-0.204372</td>\n",
       "      <td>0.347121</td>\n",
       "      <td>0.783048</td>\n",
       "      <td>0.001761</td>\n",
       "      <td>0.051823</td>\n",
       "      <td>23.00</td>\n",
       "    </tr>\n",
       "    <tr>\n",
       "      <th>199395</th>\n",
       "      <td>132943.0</td>\n",
       "      <td>-0.888411</td>\n",
       "      <td>0.129374</td>\n",
       "      <td>0.033340</td>\n",
       "      <td>-1.478096</td>\n",
       "      <td>3.560287</td>\n",
       "      <td>3.627169</td>\n",
       "      <td>0.843466</td>\n",
       "      <td>0.448297</td>\n",
       "      <td>-0.128198</td>\n",
       "      <td>...</td>\n",
       "      <td>0.109616</td>\n",
       "      <td>-0.353894</td>\n",
       "      <td>-0.653075</td>\n",
       "      <td>-0.060049</td>\n",
       "      <td>0.677667</td>\n",
       "      <td>0.730812</td>\n",
       "      <td>-0.368037</td>\n",
       "      <td>-0.364858</td>\n",
       "      <td>-0.427420</td>\n",
       "      <td>15.43</td>\n",
       "    </tr>\n",
       "    <tr>\n",
       "      <th>110926</th>\n",
       "      <td>72028.0</td>\n",
       "      <td>1.115538</td>\n",
       "      <td>-0.295725</td>\n",
       "      <td>0.665642</td>\n",
       "      <td>0.202378</td>\n",
       "      <td>-0.701254</td>\n",
       "      <td>-0.101331</td>\n",
       "      <td>-0.381491</td>\n",
       "      <td>0.196601</td>\n",
       "      <td>0.467709</td>\n",
       "      <td>...</td>\n",
       "      <td>-0.128007</td>\n",
       "      <td>-0.229913</td>\n",
       "      <td>-0.585200</td>\n",
       "      <td>0.142911</td>\n",
       "      <td>0.267771</td>\n",
       "      <td>0.033753</td>\n",
       "      <td>0.822309</td>\n",
       "      <td>-0.060126</td>\n",
       "      <td>-0.002922</td>\n",
       "      <td>24.79</td>\n",
       "    </tr>\n",
       "    <tr>\n",
       "      <th>70004</th>\n",
       "      <td>53667.0</td>\n",
       "      <td>-1.245666</td>\n",
       "      <td>0.920032</td>\n",
       "      <td>0.768056</td>\n",
       "      <td>-2.000247</td>\n",
       "      <td>0.833297</td>\n",
       "      <td>0.678502</td>\n",
       "      <td>0.580423</td>\n",
       "      <td>0.175136</td>\n",
       "      <td>0.648175</td>\n",
       "      <td>...</td>\n",
       "      <td>0.465575</td>\n",
       "      <td>-0.276875</td>\n",
       "      <td>-0.365130</td>\n",
       "      <td>-0.256405</td>\n",
       "      <td>-1.700943</td>\n",
       "      <td>-0.096862</td>\n",
       "      <td>0.826443</td>\n",
       "      <td>0.409637</td>\n",
       "      <td>0.156932</td>\n",
       "      <td>22.75</td>\n",
       "    </tr>\n",
       "    <tr>\n",
       "      <th>...</th>\n",
       "      <td>...</td>\n",
       "      <td>...</td>\n",
       "      <td>...</td>\n",
       "      <td>...</td>\n",
       "      <td>...</td>\n",
       "      <td>...</td>\n",
       "      <td>...</td>\n",
       "      <td>...</td>\n",
       "      <td>...</td>\n",
       "      <td>...</td>\n",
       "      <td>...</td>\n",
       "      <td>...</td>\n",
       "      <td>...</td>\n",
       "      <td>...</td>\n",
       "      <td>...</td>\n",
       "      <td>...</td>\n",
       "      <td>...</td>\n",
       "      <td>...</td>\n",
       "      <td>...</td>\n",
       "      <td>...</td>\n",
       "      <td>...</td>\n",
       "    </tr>\n",
       "    <tr>\n",
       "      <th>279863</th>\n",
       "      <td>169142.0</td>\n",
       "      <td>-1.927883</td>\n",
       "      <td>1.125653</td>\n",
       "      <td>-4.518331</td>\n",
       "      <td>1.749293</td>\n",
       "      <td>-1.566487</td>\n",
       "      <td>-2.010494</td>\n",
       "      <td>-0.882850</td>\n",
       "      <td>0.697211</td>\n",
       "      <td>-2.064945</td>\n",
       "      <td>...</td>\n",
       "      <td>1.252967</td>\n",
       "      <td>0.778584</td>\n",
       "      <td>-0.319189</td>\n",
       "      <td>0.639419</td>\n",
       "      <td>-0.294885</td>\n",
       "      <td>0.537503</td>\n",
       "      <td>0.788395</td>\n",
       "      <td>0.292680</td>\n",
       "      <td>0.147968</td>\n",
       "      <td>390.00</td>\n",
       "    </tr>\n",
       "    <tr>\n",
       "      <th>280143</th>\n",
       "      <td>169347.0</td>\n",
       "      <td>1.378559</td>\n",
       "      <td>1.289381</td>\n",
       "      <td>-5.004247</td>\n",
       "      <td>1.411850</td>\n",
       "      <td>0.442581</td>\n",
       "      <td>-1.326536</td>\n",
       "      <td>-1.413170</td>\n",
       "      <td>0.248525</td>\n",
       "      <td>-1.127396</td>\n",
       "      <td>...</td>\n",
       "      <td>0.226138</td>\n",
       "      <td>0.370612</td>\n",
       "      <td>0.028234</td>\n",
       "      <td>-0.145640</td>\n",
       "      <td>-0.081049</td>\n",
       "      <td>0.521875</td>\n",
       "      <td>0.739467</td>\n",
       "      <td>0.389152</td>\n",
       "      <td>0.186637</td>\n",
       "      <td>0.76</td>\n",
       "    </tr>\n",
       "    <tr>\n",
       "      <th>280149</th>\n",
       "      <td>169351.0</td>\n",
       "      <td>-0.676143</td>\n",
       "      <td>1.126366</td>\n",
       "      <td>-2.213700</td>\n",
       "      <td>0.468308</td>\n",
       "      <td>-1.120541</td>\n",
       "      <td>-0.003346</td>\n",
       "      <td>-2.234739</td>\n",
       "      <td>1.210158</td>\n",
       "      <td>-0.652250</td>\n",
       "      <td>...</td>\n",
       "      <td>0.247968</td>\n",
       "      <td>0.751826</td>\n",
       "      <td>0.834108</td>\n",
       "      <td>0.190944</td>\n",
       "      <td>0.032070</td>\n",
       "      <td>-0.739695</td>\n",
       "      <td>0.471111</td>\n",
       "      <td>0.385107</td>\n",
       "      <td>0.194361</td>\n",
       "      <td>77.89</td>\n",
       "    </tr>\n",
       "    <tr>\n",
       "      <th>281144</th>\n",
       "      <td>169966.0</td>\n",
       "      <td>-3.113832</td>\n",
       "      <td>0.585864</td>\n",
       "      <td>-5.399730</td>\n",
       "      <td>1.817092</td>\n",
       "      <td>-0.840618</td>\n",
       "      <td>-2.943548</td>\n",
       "      <td>-2.208002</td>\n",
       "      <td>1.058733</td>\n",
       "      <td>-1.632333</td>\n",
       "      <td>...</td>\n",
       "      <td>0.306271</td>\n",
       "      <td>0.583276</td>\n",
       "      <td>-0.269209</td>\n",
       "      <td>-0.456108</td>\n",
       "      <td>-0.183659</td>\n",
       "      <td>-0.328168</td>\n",
       "      <td>0.606116</td>\n",
       "      <td>0.884876</td>\n",
       "      <td>-0.253700</td>\n",
       "      <td>245.00</td>\n",
       "    </tr>\n",
       "    <tr>\n",
       "      <th>281674</th>\n",
       "      <td>170348.0</td>\n",
       "      <td>1.991976</td>\n",
       "      <td>0.158476</td>\n",
       "      <td>-2.583441</td>\n",
       "      <td>0.408670</td>\n",
       "      <td>1.151147</td>\n",
       "      <td>-0.096695</td>\n",
       "      <td>0.223050</td>\n",
       "      <td>-0.068384</td>\n",
       "      <td>0.577829</td>\n",
       "      <td>...</td>\n",
       "      <td>-0.017652</td>\n",
       "      <td>-0.164350</td>\n",
       "      <td>-0.295135</td>\n",
       "      <td>-0.072173</td>\n",
       "      <td>-0.450261</td>\n",
       "      <td>0.313267</td>\n",
       "      <td>-0.289617</td>\n",
       "      <td>0.002988</td>\n",
       "      <td>-0.015309</td>\n",
       "      <td>42.53</td>\n",
       "    </tr>\n",
       "  </tbody>\n",
       "</table>\n",
       "<p>984 rows × 30 columns</p>\n",
       "</div>"
      ],
      "text/plain": [
       "            Time        V1        V2        V3        V4        V5        V6  \\\n",
       "244243  152265.0 -1.008288  0.020961  1.060362 -2.315503 -0.621914 -0.076767   \n",
       "74586    55656.0 -0.508029  0.971134  1.317627 -0.118402  0.474907 -0.236914   \n",
       "199395  132943.0 -0.888411  0.129374  0.033340 -1.478096  3.560287  3.627169   \n",
       "110926   72028.0  1.115538 -0.295725  0.665642  0.202378 -0.701254 -0.101331   \n",
       "70004    53667.0 -1.245666  0.920032  0.768056 -2.000247  0.833297  0.678502   \n",
       "...          ...       ...       ...       ...       ...       ...       ...   \n",
       "279863  169142.0 -1.927883  1.125653 -4.518331  1.749293 -1.566487 -2.010494   \n",
       "280143  169347.0  1.378559  1.289381 -5.004247  1.411850  0.442581 -1.326536   \n",
       "280149  169351.0 -0.676143  1.126366 -2.213700  0.468308 -1.120541 -0.003346   \n",
       "281144  169966.0 -3.113832  0.585864 -5.399730  1.817092 -0.840618 -2.943548   \n",
       "281674  170348.0  1.991976  0.158476 -2.583441  0.408670  1.151147 -0.096695   \n",
       "\n",
       "              V7        V8        V9  ...       V20       V21       V22  \\\n",
       "244243 -0.303113  0.430585 -0.993785  ...  0.014065  0.409993  0.854091   \n",
       "74586   0.946096 -0.098380 -0.899375  ...  0.143641  0.012192  0.068222   \n",
       "199395  0.843466  0.448297 -0.128198  ...  0.109616 -0.353894 -0.653075   \n",
       "110926 -0.381491  0.196601  0.467709  ... -0.128007 -0.229913 -0.585200   \n",
       "70004   0.580423  0.175136  0.648175  ...  0.465575 -0.276875 -0.365130   \n",
       "...          ...       ...       ...  ...       ...       ...       ...   \n",
       "279863 -0.882850  0.697211 -2.064945  ...  1.252967  0.778584 -0.319189   \n",
       "280143 -1.413170  0.248525 -1.127396  ...  0.226138  0.370612  0.028234   \n",
       "280149 -2.234739  1.210158 -0.652250  ...  0.247968  0.751826  0.834108   \n",
       "281144 -2.208002  1.058733 -1.632333  ...  0.306271  0.583276 -0.269209   \n",
       "281674  0.223050 -0.068384  0.577829  ... -0.017652 -0.164350 -0.295135   \n",
       "\n",
       "             V23       V24       V25       V26       V27       V28  Amount  \n",
       "244243 -0.401011  0.520735  0.861626 -0.052530 -0.297551 -0.157113   70.00  \n",
       "74586  -0.313348 -0.204372  0.347121  0.783048  0.001761  0.051823   23.00  \n",
       "199395 -0.060049  0.677667  0.730812 -0.368037 -0.364858 -0.427420   15.43  \n",
       "110926  0.142911  0.267771  0.033753  0.822309 -0.060126 -0.002922   24.79  \n",
       "70004  -0.256405 -1.700943 -0.096862  0.826443  0.409637  0.156932   22.75  \n",
       "...          ...       ...       ...       ...       ...       ...     ...  \n",
       "279863  0.639419 -0.294885  0.537503  0.788395  0.292680  0.147968  390.00  \n",
       "280143 -0.145640 -0.081049  0.521875  0.739467  0.389152  0.186637    0.76  \n",
       "280149  0.190944  0.032070 -0.739695  0.471111  0.385107  0.194361   77.89  \n",
       "281144 -0.456108 -0.183659 -0.328168  0.606116  0.884876 -0.253700  245.00  \n",
       "281674 -0.072173 -0.450261  0.313267 -0.289617  0.002988 -0.015309   42.53  \n",
       "\n",
       "[984 rows x 30 columns]"
      ]
     },
     "execution_count": 20,
     "metadata": {},
     "output_type": "execute_result"
    }
   ],
   "source": [
    "X"
   ]
  },
  {
   "cell_type": "code",
   "execution_count": 21,
   "id": "86a45423",
   "metadata": {
    "execution": {
     "iopub.execute_input": "2024-10-16T12:35:04.907718Z",
     "iopub.status.busy": "2024-10-16T12:35:04.906521Z",
     "iopub.status.idle": "2024-10-16T12:35:04.915251Z",
     "shell.execute_reply": "2024-10-16T12:35:04.914131Z"
    },
    "papermill": {
     "duration": 0.024547,
     "end_time": "2024-10-16T12:35:04.917644",
     "exception": false,
     "start_time": "2024-10-16T12:35:04.893097",
     "status": "completed"
    },
    "tags": []
   },
   "outputs": [
    {
     "data": {
      "text/plain": [
       "244243    0\n",
       "74586     0\n",
       "199395    0\n",
       "110926    0\n",
       "70004     0\n",
       "         ..\n",
       "279863    1\n",
       "280143    1\n",
       "280149    1\n",
       "281144    1\n",
       "281674    1\n",
       "Name: Class, Length: 984, dtype: int64"
      ]
     },
     "execution_count": 21,
     "metadata": {},
     "output_type": "execute_result"
    }
   ],
   "source": [
    "Y"
   ]
  },
  {
   "cell_type": "markdown",
   "id": "ba190653",
   "metadata": {
    "papermill": {
     "duration": 0.011767,
     "end_time": "2024-10-16T12:35:04.941940",
     "exception": false,
     "start_time": "2024-10-16T12:35:04.930173",
     "status": "completed"
    },
    "tags": []
   },
   "source": [
    "**Split the data into Training data & Testing Data**"
   ]
  },
  {
   "cell_type": "code",
   "execution_count": 22,
   "id": "e39f4748",
   "metadata": {
    "execution": {
     "iopub.execute_input": "2024-10-16T12:35:04.967915Z",
     "iopub.status.busy": "2024-10-16T12:35:04.967479Z",
     "iopub.status.idle": "2024-10-16T12:35:04.976545Z",
     "shell.execute_reply": "2024-10-16T12:35:04.975382Z"
    },
    "papermill": {
     "duration": 0.024847,
     "end_time": "2024-10-16T12:35:04.979017",
     "exception": false,
     "start_time": "2024-10-16T12:35:04.954170",
     "status": "completed"
    },
    "tags": []
   },
   "outputs": [],
   "source": [
    "X_train, X_test, Y_train, Y_test = train_test_split(X, Y, test_size=0.2, stratify=Y, random_state=2)"
   ]
  },
  {
   "cell_type": "code",
   "execution_count": 23,
   "id": "5e7f661b",
   "metadata": {
    "execution": {
     "iopub.execute_input": "2024-10-16T12:35:05.006401Z",
     "iopub.status.busy": "2024-10-16T12:35:05.005985Z",
     "iopub.status.idle": "2024-10-16T12:35:05.012169Z",
     "shell.execute_reply": "2024-10-16T12:35:05.010955Z"
    },
    "papermill": {
     "duration": 0.022253,
     "end_time": "2024-10-16T12:35:05.014525",
     "exception": false,
     "start_time": "2024-10-16T12:35:04.992272",
     "status": "completed"
    },
    "tags": []
   },
   "outputs": [
    {
     "name": "stdout",
     "output_type": "stream",
     "text": [
      "(984, 30) (787, 30) (197, 30)\n"
     ]
    }
   ],
   "source": [
    "print(X.shape, X_train.shape, X_test.shape)"
   ]
  },
  {
   "cell_type": "markdown",
   "id": "eb324b79",
   "metadata": {
    "papermill": {
     "duration": 0.011947,
     "end_time": "2024-10-16T12:35:05.038741",
     "exception": false,
     "start_time": "2024-10-16T12:35:05.026794",
     "status": "completed"
    },
    "tags": []
   },
   "source": [
    "**Model Training**"
   ]
  },
  {
   "cell_type": "markdown",
   "id": "63d0767e",
   "metadata": {
    "papermill": {
     "duration": 0.011854,
     "end_time": "2024-10-16T12:35:05.062944",
     "exception": false,
     "start_time": "2024-10-16T12:35:05.051090",
     "status": "completed"
    },
    "tags": []
   },
   "source": []
  },
  {
   "cell_type": "code",
   "execution_count": 24,
   "id": "9e68629f",
   "metadata": {
    "execution": {
     "iopub.execute_input": "2024-10-16T12:35:05.089046Z",
     "iopub.status.busy": "2024-10-16T12:35:05.088633Z",
     "iopub.status.idle": "2024-10-16T12:35:05.093682Z",
     "shell.execute_reply": "2024-10-16T12:35:05.092565Z"
    },
    "papermill": {
     "duration": 0.020851,
     "end_time": "2024-10-16T12:35:05.096062",
     "exception": false,
     "start_time": "2024-10-16T12:35:05.075211",
     "status": "completed"
    },
    "tags": []
   },
   "outputs": [],
   "source": [
    "model = LogisticRegression()"
   ]
  },
  {
   "cell_type": "code",
   "execution_count": 25,
   "id": "b5d55ecd",
   "metadata": {
    "execution": {
     "iopub.execute_input": "2024-10-16T12:35:05.124374Z",
     "iopub.status.busy": "2024-10-16T12:35:05.123975Z",
     "iopub.status.idle": "2024-10-16T12:35:05.175778Z",
     "shell.execute_reply": "2024-10-16T12:35:05.174379Z"
    },
    "papermill": {
     "duration": 0.068961,
     "end_time": "2024-10-16T12:35:05.178890",
     "exception": false,
     "start_time": "2024-10-16T12:35:05.109929",
     "status": "completed"
    },
    "tags": []
   },
   "outputs": [
    {
     "data": {
      "text/html": [
       "<style>#sk-container-id-1 {color: black;background-color: white;}#sk-container-id-1 pre{padding: 0;}#sk-container-id-1 div.sk-toggleable {background-color: white;}#sk-container-id-1 label.sk-toggleable__label {cursor: pointer;display: block;width: 100%;margin-bottom: 0;padding: 0.3em;box-sizing: border-box;text-align: center;}#sk-container-id-1 label.sk-toggleable__label-arrow:before {content: \"▸\";float: left;margin-right: 0.25em;color: #696969;}#sk-container-id-1 label.sk-toggleable__label-arrow:hover:before {color: black;}#sk-container-id-1 div.sk-estimator:hover label.sk-toggleable__label-arrow:before {color: black;}#sk-container-id-1 div.sk-toggleable__content {max-height: 0;max-width: 0;overflow: hidden;text-align: left;background-color: #f0f8ff;}#sk-container-id-1 div.sk-toggleable__content pre {margin: 0.2em;color: black;border-radius: 0.25em;background-color: #f0f8ff;}#sk-container-id-1 input.sk-toggleable__control:checked~div.sk-toggleable__content {max-height: 200px;max-width: 100%;overflow: auto;}#sk-container-id-1 input.sk-toggleable__control:checked~label.sk-toggleable__label-arrow:before {content: \"▾\";}#sk-container-id-1 div.sk-estimator input.sk-toggleable__control:checked~label.sk-toggleable__label {background-color: #d4ebff;}#sk-container-id-1 div.sk-label input.sk-toggleable__control:checked~label.sk-toggleable__label {background-color: #d4ebff;}#sk-container-id-1 input.sk-hidden--visually {border: 0;clip: rect(1px 1px 1px 1px);clip: rect(1px, 1px, 1px, 1px);height: 1px;margin: -1px;overflow: hidden;padding: 0;position: absolute;width: 1px;}#sk-container-id-1 div.sk-estimator {font-family: monospace;background-color: #f0f8ff;border: 1px dotted black;border-radius: 0.25em;box-sizing: border-box;margin-bottom: 0.5em;}#sk-container-id-1 div.sk-estimator:hover {background-color: #d4ebff;}#sk-container-id-1 div.sk-parallel-item::after {content: \"\";width: 100%;border-bottom: 1px solid gray;flex-grow: 1;}#sk-container-id-1 div.sk-label:hover label.sk-toggleable__label {background-color: #d4ebff;}#sk-container-id-1 div.sk-serial::before {content: \"\";position: absolute;border-left: 1px solid gray;box-sizing: border-box;top: 0;bottom: 0;left: 50%;z-index: 0;}#sk-container-id-1 div.sk-serial {display: flex;flex-direction: column;align-items: center;background-color: white;padding-right: 0.2em;padding-left: 0.2em;position: relative;}#sk-container-id-1 div.sk-item {position: relative;z-index: 1;}#sk-container-id-1 div.sk-parallel {display: flex;align-items: stretch;justify-content: center;background-color: white;position: relative;}#sk-container-id-1 div.sk-item::before, #sk-container-id-1 div.sk-parallel-item::before {content: \"\";position: absolute;border-left: 1px solid gray;box-sizing: border-box;top: 0;bottom: 0;left: 50%;z-index: -1;}#sk-container-id-1 div.sk-parallel-item {display: flex;flex-direction: column;z-index: 1;position: relative;background-color: white;}#sk-container-id-1 div.sk-parallel-item:first-child::after {align-self: flex-end;width: 50%;}#sk-container-id-1 div.sk-parallel-item:last-child::after {align-self: flex-start;width: 50%;}#sk-container-id-1 div.sk-parallel-item:only-child::after {width: 0;}#sk-container-id-1 div.sk-dashed-wrapped {border: 1px dashed gray;margin: 0 0.4em 0.5em 0.4em;box-sizing: border-box;padding-bottom: 0.4em;background-color: white;}#sk-container-id-1 div.sk-label label {font-family: monospace;font-weight: bold;display: inline-block;line-height: 1.2em;}#sk-container-id-1 div.sk-label-container {text-align: center;}#sk-container-id-1 div.sk-container {/* jupyter's `normalize.less` sets `[hidden] { display: none; }` but bootstrap.min.css set `[hidden] { display: none !important; }` so we also need the `!important` here to be able to override the default hidden behavior on the sphinx rendered scikit-learn.org. See: https://github.com/scikit-learn/scikit-learn/issues/21755 */display: inline-block !important;position: relative;}#sk-container-id-1 div.sk-text-repr-fallback {display: none;}</style><div id=\"sk-container-id-1\" class=\"sk-top-container\"><div class=\"sk-text-repr-fallback\"><pre>LogisticRegression()</pre><b>In a Jupyter environment, please rerun this cell to show the HTML representation or trust the notebook. <br />On GitHub, the HTML representation is unable to render, please try loading this page with nbviewer.org.</b></div><div class=\"sk-container\" hidden><div class=\"sk-item\"><div class=\"sk-estimator sk-toggleable\"><input class=\"sk-toggleable__control sk-hidden--visually\" id=\"sk-estimator-id-1\" type=\"checkbox\" checked><label for=\"sk-estimator-id-1\" class=\"sk-toggleable__label sk-toggleable__label-arrow\">LogisticRegression</label><div class=\"sk-toggleable__content\"><pre>LogisticRegression()</pre></div></div></div></div></div>"
      ],
      "text/plain": [
       "LogisticRegression()"
      ]
     },
     "execution_count": 25,
     "metadata": {},
     "output_type": "execute_result"
    }
   ],
   "source": [
    "# training the Logistic Regression Model with Training Data\n",
    "model.fit(X_train, Y_train)"
   ]
  },
  {
   "cell_type": "markdown",
   "id": "e2cdfb46",
   "metadata": {
    "papermill": {
     "duration": 0.020633,
     "end_time": "2024-10-16T12:35:05.221194",
     "exception": false,
     "start_time": "2024-10-16T12:35:05.200561",
     "status": "completed"
    },
    "tags": []
   },
   "source": [
    "Model Evaluation\n",
    "\n",
    "Accuracy Score"
   ]
  },
  {
   "cell_type": "code",
   "execution_count": 26,
   "id": "85d100b8",
   "metadata": {
    "execution": {
     "iopub.execute_input": "2024-10-16T12:35:05.266091Z",
     "iopub.status.busy": "2024-10-16T12:35:05.264655Z",
     "iopub.status.idle": "2024-10-16T12:35:05.277611Z",
     "shell.execute_reply": "2024-10-16T12:35:05.276402Z"
    },
    "papermill": {
     "duration": 0.038365,
     "end_time": "2024-10-16T12:35:05.280662",
     "exception": false,
     "start_time": "2024-10-16T12:35:05.242297",
     "status": "completed"
    },
    "tags": []
   },
   "outputs": [],
   "source": [
    "# accuracy on training data\n",
    "X_train_prediction = model.predict(X_train)\n",
    "training_data_accuracy = accuracy_score(X_train_prediction, Y_train)"
   ]
  },
  {
   "cell_type": "code",
   "execution_count": 27,
   "id": "0927c8c4",
   "metadata": {
    "execution": {
     "iopub.execute_input": "2024-10-16T12:35:05.325516Z",
     "iopub.status.busy": "2024-10-16T12:35:05.324936Z",
     "iopub.status.idle": "2024-10-16T12:35:05.331431Z",
     "shell.execute_reply": "2024-10-16T12:35:05.330249Z"
    },
    "papermill": {
     "duration": 0.033105,
     "end_time": "2024-10-16T12:35:05.335249",
     "exception": false,
     "start_time": "2024-10-16T12:35:05.302144",
     "status": "completed"
    },
    "tags": []
   },
   "outputs": [
    {
     "name": "stdout",
     "output_type": "stream",
     "text": [
      "Accuracy on Training data :  0.9377382465057179\n"
     ]
    }
   ],
   "source": [
    "print('Accuracy on Training data : ', training_data_accuracy)"
   ]
  },
  {
   "cell_type": "code",
   "execution_count": 28,
   "id": "fb993d75",
   "metadata": {
    "execution": {
     "iopub.execute_input": "2024-10-16T12:35:05.380490Z",
     "iopub.status.busy": "2024-10-16T12:35:05.379906Z",
     "iopub.status.idle": "2024-10-16T12:35:05.390460Z",
     "shell.execute_reply": "2024-10-16T12:35:05.389207Z"
    },
    "papermill": {
     "duration": 0.037201,
     "end_time": "2024-10-16T12:35:05.393916",
     "exception": false,
     "start_time": "2024-10-16T12:35:05.356715",
     "status": "completed"
    },
    "tags": []
   },
   "outputs": [],
   "source": [
    "# accuracy on test data\n",
    "X_test_prediction = model.predict(X_test)\n",
    "test_data_accuracy = accuracy_score(X_test_prediction, Y_test)"
   ]
  },
  {
   "cell_type": "code",
   "execution_count": 29,
   "id": "85a95be9",
   "metadata": {
    "execution": {
     "iopub.execute_input": "2024-10-16T12:35:05.421606Z",
     "iopub.status.busy": "2024-10-16T12:35:05.421211Z",
     "iopub.status.idle": "2024-10-16T12:35:05.426834Z",
     "shell.execute_reply": "2024-10-16T12:35:05.425762Z"
    },
    "papermill": {
     "duration": 0.022758,
     "end_time": "2024-10-16T12:35:05.429789",
     "exception": false,
     "start_time": "2024-10-16T12:35:05.407031",
     "status": "completed"
    },
    "tags": []
   },
   "outputs": [
    {
     "name": "stdout",
     "output_type": "stream",
     "text": [
      "Accuracy score on Test Data :  0.9390862944162437\n"
     ]
    }
   ],
   "source": [
    "print('Accuracy score on Test Data : ', test_data_accuracy)"
   ]
  },
  {
   "cell_type": "markdown",
   "id": "8ed4fa30",
   "metadata": {
    "papermill": {
     "duration": 0.012378,
     "end_time": "2024-10-16T12:35:05.454926",
     "exception": false,
     "start_time": "2024-10-16T12:35:05.442548",
     "status": "completed"
    },
    "tags": []
   },
   "source": [
    "**Implement more Models**"
   ]
  },
  {
   "cell_type": "code",
   "execution_count": 30,
   "id": "a85fc6a2",
   "metadata": {
    "execution": {
     "iopub.execute_input": "2024-10-16T12:35:05.482551Z",
     "iopub.status.busy": "2024-10-16T12:35:05.482143Z",
     "iopub.status.idle": "2024-10-16T12:35:05.488892Z",
     "shell.execute_reply": "2024-10-16T12:35:05.487396Z"
    },
    "papermill": {
     "duration": 0.023629,
     "end_time": "2024-10-16T12:35:05.491290",
     "exception": false,
     "start_time": "2024-10-16T12:35:05.467661",
     "status": "completed"
    },
    "tags": []
   },
   "outputs": [],
   "source": [
    "# Define the models you want to evaluate\n",
    "models = {\n",
    "    'Logistic Regression': LogisticRegression(max_iter=1000),\n",
    "    'Random Forest': RandomForestClassifier(),\n",
    "    'Support Vector Machine': SVC(),\n",
    "    'Decision Tree': DecisionTreeClassifier()\n",
    "}"
   ]
  },
  {
   "cell_type": "code",
   "execution_count": 31,
   "id": "6eb82bc0",
   "metadata": {
    "execution": {
     "iopub.execute_input": "2024-10-16T12:35:05.518830Z",
     "iopub.status.busy": "2024-10-16T12:35:05.518357Z",
     "iopub.status.idle": "2024-10-16T12:35:06.177180Z",
     "shell.execute_reply": "2024-10-16T12:35:06.176191Z"
    },
    "papermill": {
     "duration": 0.6756,
     "end_time": "2024-10-16T12:35:06.179770",
     "exception": false,
     "start_time": "2024-10-16T12:35:05.504170",
     "status": "completed"
    },
    "tags": []
   },
   "outputs": [],
   "source": [
    "# Initialize a list to store results\n",
    "results = []\n",
    "\n",
    "# Train each model and evaluate\n",
    "for model_name, model in models.items():\n",
    "    # Train the model\n",
    "    model.fit(X_train, Y_train)\n",
    "\n",
    "    # Predictions on training data\n",
    "    Y_train_pred = model.predict(X_train)\n",
    "    Y_test_pred = model.predict(X_test)\n",
    "\n",
    "    # Calculate metrics\n",
    "    train_accuracy = accuracy_score(Y_train, Y_train_pred)\n",
    "    test_accuracy = accuracy_score(Y_test, Y_test_pred)\n",
    "    \n",
    "    train_precision = precision_score(Y_train, Y_train_pred, average='weighted', zero_division=0)\n",
    "    test_precision = precision_score(Y_test, Y_test_pred, average='weighted', zero_division=0)\n",
    "    \n",
    "    train_recall = recall_score(Y_train, Y_train_pred, average='weighted', zero_division=0)\n",
    "    test_recall = recall_score(Y_test, Y_test_pred, average='weighted', zero_division=0)\n",
    "\n",
    "    train_f1 = f1_score(Y_train, Y_train_pred, average='weighted', zero_division=0)\n",
    "    test_f1 = f1_score(Y_test, Y_test_pred, average='weighted', zero_division=0)\n",
    "\n",
    "    # Append results to the list\n",
    "    results.append({\n",
    "        'Model': model_name,\n",
    "        'Train Accuracy': train_accuracy,\n",
    "        'Test Accuracy': test_accuracy,\n",
    "        'Train Precision': train_precision,\n",
    "        'Test Precision': test_precision,\n",
    "        'Train Recall': train_recall,\n",
    "        'Test Recall': test_recall,\n",
    "        'Train F1 Score': train_f1,\n",
    "        'Test F1 Score': test_f1\n",
    "    })\n",
    "\n",
    "# Convert the list of results to a DataFrame\n",
    "results_df = pd.DataFrame(results)"
   ]
  },
  {
   "cell_type": "code",
   "execution_count": 32,
   "id": "0cbe9462",
   "metadata": {
    "execution": {
     "iopub.execute_input": "2024-10-16T12:35:06.207549Z",
     "iopub.status.busy": "2024-10-16T12:35:06.207145Z",
     "iopub.status.idle": "2024-10-16T12:35:06.222829Z",
     "shell.execute_reply": "2024-10-16T12:35:06.221745Z"
    },
    "papermill": {
     "duration": 0.032591,
     "end_time": "2024-10-16T12:35:06.225184",
     "exception": false,
     "start_time": "2024-10-16T12:35:06.192593",
     "status": "completed"
    },
    "tags": []
   },
   "outputs": [
    {
     "data": {
      "text/html": [
       "<div>\n",
       "<style scoped>\n",
       "    .dataframe tbody tr th:only-of-type {\n",
       "        vertical-align: middle;\n",
       "    }\n",
       "\n",
       "    .dataframe tbody tr th {\n",
       "        vertical-align: top;\n",
       "    }\n",
       "\n",
       "    .dataframe thead th {\n",
       "        text-align: right;\n",
       "    }\n",
       "</style>\n",
       "<table border=\"1\" class=\"dataframe\">\n",
       "  <thead>\n",
       "    <tr style=\"text-align: right;\">\n",
       "      <th></th>\n",
       "      <th>Model</th>\n",
       "      <th>Train Accuracy</th>\n",
       "      <th>Test Accuracy</th>\n",
       "      <th>Train Precision</th>\n",
       "      <th>Test Precision</th>\n",
       "      <th>Train Recall</th>\n",
       "      <th>Test Recall</th>\n",
       "      <th>Train F1 Score</th>\n",
       "      <th>Test F1 Score</th>\n",
       "    </tr>\n",
       "  </thead>\n",
       "  <tbody>\n",
       "    <tr>\n",
       "      <th>0</th>\n",
       "      <td>Logistic Regression</td>\n",
       "      <td>0.937738</td>\n",
       "      <td>0.939086</td>\n",
       "      <td>0.938765</td>\n",
       "      <td>0.945672</td>\n",
       "      <td>0.937738</td>\n",
       "      <td>0.939086</td>\n",
       "      <td>0.937704</td>\n",
       "      <td>0.938840</td>\n",
       "    </tr>\n",
       "    <tr>\n",
       "      <th>1</th>\n",
       "      <td>Random Forest</td>\n",
       "      <td>1.000000</td>\n",
       "      <td>0.934010</td>\n",
       "      <td>1.000000</td>\n",
       "      <td>0.939460</td>\n",
       "      <td>1.000000</td>\n",
       "      <td>0.934010</td>\n",
       "      <td>1.000000</td>\n",
       "      <td>0.933785</td>\n",
       "    </tr>\n",
       "    <tr>\n",
       "      <th>2</th>\n",
       "      <td>Support Vector Machine</td>\n",
       "      <td>0.524778</td>\n",
       "      <td>0.532995</td>\n",
       "      <td>0.525049</td>\n",
       "      <td>0.533581</td>\n",
       "      <td>0.524778</td>\n",
       "      <td>0.532995</td>\n",
       "      <td>0.523113</td>\n",
       "      <td>0.531910</td>\n",
       "    </tr>\n",
       "    <tr>\n",
       "      <th>3</th>\n",
       "      <td>Decision Tree</td>\n",
       "      <td>1.000000</td>\n",
       "      <td>0.893401</td>\n",
       "      <td>1.000000</td>\n",
       "      <td>0.896666</td>\n",
       "      <td>1.000000</td>\n",
       "      <td>0.893401</td>\n",
       "      <td>1.000000</td>\n",
       "      <td>0.893153</td>\n",
       "    </tr>\n",
       "  </tbody>\n",
       "</table>\n",
       "</div>"
      ],
      "text/plain": [
       "                    Model  Train Accuracy  Test Accuracy  Train Precision  \\\n",
       "0     Logistic Regression        0.937738       0.939086         0.938765   \n",
       "1           Random Forest        1.000000       0.934010         1.000000   \n",
       "2  Support Vector Machine        0.524778       0.532995         0.525049   \n",
       "3           Decision Tree        1.000000       0.893401         1.000000   \n",
       "\n",
       "   Test Precision  Train Recall  Test Recall  Train F1 Score  Test F1 Score  \n",
       "0        0.945672      0.937738     0.939086        0.937704       0.938840  \n",
       "1        0.939460      1.000000     0.934010        1.000000       0.933785  \n",
       "2        0.533581      0.524778     0.532995        0.523113       0.531910  \n",
       "3        0.896666      1.000000     0.893401        1.000000       0.893153  "
      ]
     },
     "execution_count": 32,
     "metadata": {},
     "output_type": "execute_result"
    }
   ],
   "source": [
    "# Print the results DataFrame\n",
    "results_df"
   ]
  }
 ],
 "metadata": {
  "kaggle": {
   "accelerator": "none",
   "dataSources": [
    {
     "datasetId": 310,
     "sourceId": 23498,
     "sourceType": "datasetVersion"
    }
   ],
   "dockerImageVersionId": 30786,
   "isGpuEnabled": false,
   "isInternetEnabled": true,
   "language": "python",
   "sourceType": "notebook"
  },
  "kernelspec": {
   "display_name": "Python 3",
   "language": "python",
   "name": "python3"
  },
  "language_info": {
   "codemirror_mode": {
    "name": "ipython",
    "version": 3
   },
   "file_extension": ".py",
   "mimetype": "text/x-python",
   "name": "python",
   "nbconvert_exporter": "python",
   "pygments_lexer": "ipython3",
   "version": "3.10.14"
  },
  "papermill": {
   "default_parameters": {},
   "duration": 13.218625,
   "end_time": "2024-10-16T12:35:06.860022",
   "environment_variables": {},
   "exception": null,
   "input_path": "__notebook__.ipynb",
   "output_path": "__notebook__.ipynb",
   "parameters": {},
   "start_time": "2024-10-16T12:34:53.641397",
   "version": "2.6.0"
  }
 },
 "nbformat": 4,
 "nbformat_minor": 5
}
